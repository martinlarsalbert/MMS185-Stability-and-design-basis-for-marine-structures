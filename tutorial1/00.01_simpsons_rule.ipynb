{
 "cells": [
  {
   "cell_type": "markdown",
   "id": "e310e098-5777-455c-bb0f-2c3e2910a2f3",
   "metadata": {},
   "source": [
    "# Simpson's rule"
   ]
  },
  {
   "cell_type": "code",
   "execution_count": 143,
   "id": "f247f41f-3001-4bc1-9e4a-87b7976e0c71",
   "metadata": {
    "tags": []
   },
   "outputs": [],
   "source": [
    "import sympy as sp\n",
    "from IPython.display import display\n",
    "import matplotlib.pyplot as plt\n",
    "import numpy as np\n",
    "import pandas as pd\n",
    "import scipy.integrate\n",
    "from sympy import Eq,symbols\n",
    "from numpy.testing import assert_almost_equal"
   ]
  },
  {
   "cell_type": "code",
   "execution_count": 2,
   "id": "6fa0920e-3f53-4066-9fa9-2223f557c762",
   "metadata": {
    "tags": []
   },
   "outputs": [],
   "source": [
    "a,b,c,x,y = symbols(\"a,b,c,x,y\")"
   ]
  },
  {
   "cell_type": "code",
   "execution_count": 3,
   "id": "48e97c8d-003e-4845-ba72-dad15730950b",
   "metadata": {
    "tags": []
   },
   "outputs": [],
   "source": [
    "eq_y = Eq(y,a*x**2+b*x+c)"
   ]
  },
  {
   "cell_type": "code",
   "execution_count": 4,
   "id": "88369483-f471-49cc-ac5b-a3775fa711dd",
   "metadata": {
    "tags": []
   },
   "outputs": [
    {
     "data": {
      "text/latex": [
       "$\\displaystyle y = a x^{2} + b x + c$"
      ],
      "text/plain": [
       "Eq(y, a*x**2 + b*x + c)"
      ]
     },
     "execution_count": 4,
     "metadata": {},
     "output_type": "execute_result"
    }
   ],
   "source": [
    "eq_y"
   ]
  },
  {
   "cell_type": "markdown",
   "id": "3d2d1ed1-e75b-47ab-a648-3b4aaba6613e",
   "metadata": {},
   "source": [
    "## Fit curve"
   ]
  },
  {
   "cell_type": "code",
   "execution_count": 5,
   "id": "232f20ee-5e38-460b-8320-699ff391c942",
   "metadata": {
    "tags": []
   },
   "outputs": [],
   "source": [
    "y_0,y_1,y_2 = symbols(\"y_0,y_1,y_2\")\n",
    "x_0,x_1,x_2 = symbols(\"x_0,x_1,x_2\")\n",
    "d = symbols(\"d\")\n"
   ]
  },
  {
   "cell_type": "code",
   "execution_count": 6,
   "id": "4617860c-6578-47c8-bfd4-282fca942b09",
   "metadata": {
    "tags": []
   },
   "outputs": [],
   "source": [
    "eq_y0 = eq_y.subs([(y,y_0),(x,x_0)])\n",
    "eq_y1 = eq_y.subs([(y,y_1),(x,x_1)])\n",
    "eq_y2 = eq_y.subs([(y,y_2),(x,x_2)])"
   ]
  },
  {
   "cell_type": "code",
   "execution_count": 7,
   "id": "61eed069-209a-489b-9170-88107f2f5a7e",
   "metadata": {
    "tags": []
   },
   "outputs": [],
   "source": [
    "eqs=(eq_y0,eq_y1,eq_y2)\n",
    "solution = sp.solve(eqs,a,b,c)"
   ]
  },
  {
   "cell_type": "code",
   "execution_count": 8,
   "id": "5efbe865-2bb0-48ab-a62d-eec29f2eee08",
   "metadata": {
    "tags": []
   },
   "outputs": [
    {
     "data": {
      "text/latex": [
       "$\\displaystyle \\frac{- x_{0} y_{1} + x_{0} y_{2} + x_{1} y_{0} - x_{1} y_{2} - x_{2} y_{0} + x_{2} y_{1}}{x_{0}^{2} x_{1} - x_{0}^{2} x_{2} - x_{0} x_{1}^{2} + x_{0} x_{2}^{2} + x_{1}^{2} x_{2} - x_{1} x_{2}^{2}}$"
      ],
      "text/plain": [
       "(-x_0*y_1 + x_0*y_2 + x_1*y_0 - x_1*y_2 - x_2*y_0 + x_2*y_1)/(x_0**2*x_1 - x_0**2*x_2 - x_0*x_1**2 + x_0*x_2**2 + x_1**2*x_2 - x_1*x_2**2)"
      ]
     },
     "execution_count": 8,
     "metadata": {},
     "output_type": "execute_result"
    }
   ],
   "source": [
    "solution[a]"
   ]
  },
  {
   "cell_type": "code",
   "execution_count": 9,
   "id": "1cdd165b-2db7-4fa2-b44b-c8bf664fd7ff",
   "metadata": {
    "tags": []
   },
   "outputs": [],
   "source": [
    "eq_x0 = Eq(x_0,0)\n",
    "eq_x1 = Eq(x_1,d)\n",
    "eq_x2 = Eq(x_2,2*d)"
   ]
  },
  {
   "cell_type": "code",
   "execution_count": 10,
   "id": "83b1afc1-ed2d-4147-aead-1fd5152f3717",
   "metadata": {
    "tags": []
   },
   "outputs": [
    {
     "data": {
      "text/latex": [
       "$\\displaystyle x_{0} = 0$"
      ],
      "text/plain": [
       "Eq(x_0, 0)"
      ]
     },
     "metadata": {},
     "output_type": "display_data"
    },
    {
     "data": {
      "text/latex": [
       "$\\displaystyle x_{1} = d$"
      ],
      "text/plain": [
       "Eq(x_1, d)"
      ]
     },
     "metadata": {},
     "output_type": "display_data"
    },
    {
     "data": {
      "text/latex": [
       "$\\displaystyle x_{2} = 2 d$"
      ],
      "text/plain": [
       "Eq(x_2, 2*d)"
      ]
     },
     "metadata": {},
     "output_type": "display_data"
    }
   ],
   "source": [
    "display(eq_x0)\n",
    "display(eq_x1)\n",
    "display(eq_x2)\n"
   ]
  },
  {
   "cell_type": "code",
   "execution_count": 11,
   "id": "786fcb01-9b06-4ee6-b8fd-8b5fb462e8e7",
   "metadata": {
    "tags": []
   },
   "outputs": [],
   "source": [
    "eqs=(eq_y0,eq_y1,eq_y2,eq_x0,eq_x1,eq_x2)\n",
    "solution2 = sp.solve(eqs,a,b,c,x_0,x_1,x_2, dict=True)[0]"
   ]
  },
  {
   "cell_type": "code",
   "execution_count": 12,
   "id": "1f4bae1c-ebdb-475e-977d-0cdb4e991c1a",
   "metadata": {
    "tags": []
   },
   "outputs": [
    {
     "data": {
      "text/latex": [
       "$\\displaystyle c = y_{0}$"
      ],
      "text/plain": [
       "Eq(c, y_0)"
      ]
     },
     "execution_count": 12,
     "metadata": {},
     "output_type": "execute_result"
    }
   ],
   "source": [
    "eq_c = Eq(c,solution2[c])\n",
    "eq_c"
   ]
  },
  {
   "cell_type": "code",
   "execution_count": 13,
   "id": "47e4a93a-60a6-49a1-b992-93bf2d739700",
   "metadata": {
    "tags": []
   },
   "outputs": [
    {
     "data": {
      "text/latex": [
       "$\\displaystyle b = - \\frac{3 y_{0} - 4 y_{1} + y_{2}}{2 d}$"
      ],
      "text/plain": [
       "Eq(b, -(3*y_0 - 4*y_1 + y_2)/(2*d))"
      ]
     },
     "execution_count": 13,
     "metadata": {},
     "output_type": "execute_result"
    }
   ],
   "source": [
    "eq_b = Eq(b,solution2[b])\n",
    "eq_b"
   ]
  },
  {
   "cell_type": "code",
   "execution_count": 14,
   "id": "47f286ca-317f-491d-8488-8515f5e18710",
   "metadata": {
    "tags": []
   },
   "outputs": [
    {
     "data": {
      "text/latex": [
       "$\\displaystyle a = \\frac{y_{0} - 2 y_{1} + y_{2}}{2 d^{2}}$"
      ],
      "text/plain": [
       "Eq(a, (y_0 - 2*y_1 + y_2)/(2*d**2))"
      ]
     },
     "execution_count": 14,
     "metadata": {},
     "output_type": "execute_result"
    }
   ],
   "source": [
    "eq_a = Eq(a,solution2[a])\n",
    "eq_a"
   ]
  },
  {
   "cell_type": "code",
   "execution_count": 15,
   "id": "02c66d8c-76b4-4ca3-a399-1eee5894a273",
   "metadata": {
    "tags": []
   },
   "outputs": [],
   "source": [
    "eqs=(eq_y,eq_y0,eq_y1,eq_y2,eq_x0,eq_x1,eq_x2)\n",
    "solution3 = sp.solve(eqs,a,b,c,x_0,x_1,x_2,y, dict=True)[0]"
   ]
  },
  {
   "cell_type": "code",
   "execution_count": 16,
   "id": "da5698ac-f878-4270-8983-148b2b2b59df",
   "metadata": {
    "tags": []
   },
   "outputs": [
    {
     "data": {
      "text/latex": [
       "$\\displaystyle y = \\frac{2 d^{2} y_{0} - 3 d x y_{0} + 4 d x y_{1} - d x y_{2} + x^{2} y_{0} - 2 x^{2} y_{1} + x^{2} y_{2}}{2 d^{2}}$"
      ],
      "text/plain": [
       "Eq(y, (2*d**2*y_0 - 3*d*x*y_0 + 4*d*x*y_1 - d*x*y_2 + x**2*y_0 - 2*x**2*y_1 + x**2*y_2)/(2*d**2))"
      ]
     },
     "execution_count": 16,
     "metadata": {},
     "output_type": "execute_result"
    }
   ],
   "source": [
    "eq_y_fit = Eq(y,solution3[y])\n",
    "eq_y_fit"
   ]
  },
  {
   "cell_type": "code",
   "execution_count": 17,
   "id": "e53d4f58-493f-4347-b1cd-fa3ca489d1ce",
   "metadata": {
    "tags": []
   },
   "outputs": [
    {
     "data": {
      "text/plain": [
       "<function _lambdifygenerated(y_0, y_1, d, x, y_2)>"
      ]
     },
     "execution_count": 17,
     "metadata": {},
     "output_type": "execute_result"
    }
   ],
   "source": [
    "lambda_y_fit = sp.lambdify(list(eq_y_fit.rhs.free_symbols), eq_y_fit.rhs)\n",
    "lambda_y_fit"
   ]
  },
  {
   "cell_type": "code",
   "execution_count": 18,
   "id": "dcf31324-512c-43ce-b219-58480b6cef17",
   "metadata": {
    "tags": []
   },
   "outputs": [
    {
     "data": {
      "image/png": "[encoded data removed]",
      "text/plain": [
       "<Figure size 640x480 with 1 Axes>"
      ]
     },
     "metadata": {},
     "output_type": "display_data"
    }
   ],
   "source": [
    "ys = np.array([1,3,2])\n",
    "xs = np.array([0,1,2])\n",
    "d_ = xs[1]-xs[0]\n",
    "x_fit = np.linspace(xs[0],xs[-1],50)\n",
    "y_fit = lambda_y_fit(x=x_fit, d=d_, y_0=ys[0], y_1=ys[1], y_2=ys[2])\n",
    "\n",
    "fig,ax=plt.subplots()\n",
    "ax.plot(xs,ys,'.',label='data')\n",
    "ax.plot(x_fit,y_fit,'--', label=r'$y=f(x)$')\n",
    "for i,x_ in enumerate(xs):\n",
    "    ax.text(x=xs[i], y=ys[i], s=f\" y{i}\")\n",
    "ax.legend();\n"
   ]
  },
  {
   "cell_type": "markdown",
   "id": "2eada07f-3972-4db0-b034-11677e1a4b28",
   "metadata": {},
   "source": [
    "## Area"
   ]
  },
  {
   "cell_type": "code",
   "execution_count": 19,
   "id": "f80a5ecc-86c6-43a2-9f6a-211dffec64c0",
   "metadata": {
    "tags": []
   },
   "outputs": [
    {
     "data": {
      "text/latex": [
       "$\\displaystyle A = \\int\\limits_{0}^{2 d} \\left(a x^{2} + b x + c\\right)\\, dx$"
      ],
      "text/plain": [
       "Eq(A, Integral(a*x**2 + b*x + c, (x, 0, 2*d)))"
      ]
     },
     "execution_count": 19,
     "metadata": {},
     "output_type": "execute_result"
    }
   ],
   "source": [
    "A = symbols(\"A\")\n",
    "eq_A_ = Eq(A,sp.Integral(eq_y.rhs, (x,0,2*d)))\n",
    "eq_A_"
   ]
  },
  {
   "cell_type": "code",
   "execution_count": 20,
   "id": "b8a0138f-b10a-424d-b6dd-20d90f435ef1",
   "metadata": {
    "tags": []
   },
   "outputs": [
    {
     "data": {
      "text/latex": [
       "$\\displaystyle A = \\frac{8 a d^{3}}{3} + 2 b d^{2} + 2 c d$"
      ],
      "text/plain": [
       "Eq(A, 8*a*d**3/3 + 2*b*d**2 + 2*c*d)"
      ]
     },
     "execution_count": 20,
     "metadata": {},
     "output_type": "execute_result"
    }
   ],
   "source": [
    "eq_A = eq_A_.doit()\n",
    "eq_A"
   ]
  },
  {
   "cell_type": "code",
   "execution_count": 21,
   "id": "c731d6d1-7173-4e52-b6c2-35d9214b6fe6",
   "metadata": {
    "tags": []
   },
   "outputs": [
    {
     "data": {
      "text/latex": [
       "$\\displaystyle A = \\frac{d \\left(y_{0} + 4 y_{1} + y_{2}\\right)}{3}$"
      ],
      "text/plain": [
       "Eq(A, d*(y_0 + 4*y_1 + y_2)/3)"
      ]
     },
     "execution_count": 21,
     "metadata": {},
     "output_type": "execute_result"
    }
   ],
   "source": [
    "eqs = (eq_A, eq_a, eq_b, eq_c)\n",
    "solution4 = sp.solve(eqs, A, a, b, c)\n",
    "eq_A_y = Eq(A,sp.factor(solution4[A]))\n",
    "eq_A_y"
   ]
  },
  {
   "cell_type": "code",
   "execution_count": 22,
   "id": "0221245f",
   "metadata": {
    "tags": []
   },
   "outputs": [
    {
     "data": {
      "text/latex": [
       "$\\displaystyle C = \\frac{2 d}{3}$"
      ],
      "text/plain": [
       "Eq(C, 2*d/3)"
      ]
     },
     "execution_count": 22,
     "metadata": {},
     "output_type": "execute_result"
    }
   ],
   "source": [
    "C=symbols(\"C\")\n",
    "eq_C = sp.Eq(C,2*d/3)\n",
    "eq_C"
   ]
  },
  {
   "cell_type": "code",
   "execution_count": 34,
   "id": "ce179760-cf2b-41ba-a228-59d055497f7f",
   "metadata": {
    "tags": []
   },
   "outputs": [
    {
     "data": {
      "text/latex": [
       "$\\displaystyle A = \\frac{C \\left(y_{0} + 4 y_{1} + y_{2}\\right)}{2}$"
      ],
      "text/plain": [
       "Eq(A, C*(y_0 + 4*y_1 + y_2)/2)"
      ]
     },
     "execution_count": 34,
     "metadata": {},
     "output_type": "execute_result"
    }
   ],
   "source": [
    "eq_A_y_C = Eq(A,sp.factor(sp.solve([eq_A_y,eq_C],A,d)[A]))\n",
    "eq_A_y_C"
   ]
  },
  {
   "cell_type": "code",
   "execution_count": 23,
   "id": "32a5d122-9529-43f2-b222-0ee6c07ded12",
   "metadata": {
    "tags": []
   },
   "outputs": [
    {
     "data": {
      "text/plain": [
       "<function _lambdifygenerated(d, y_0, y_2, y_1)>"
      ]
     },
     "execution_count": 23,
     "metadata": {},
     "output_type": "execute_result"
    }
   ],
   "source": [
    "lambda_A = sp.lambdify(list(eq_A_y.rhs.free_symbols), eq_A_y.rhs)\n",
    "lambda_A"
   ]
  },
  {
   "cell_type": "code",
   "execution_count": null,
   "id": "430b16a3-9e6c-4fc0-9f2c-5dcd192fbc05",
   "metadata": {
    "tags": []
   },
   "outputs": [
    {
     "data": {
      "text/plain": [
       "5.0"
      ]
     },
     "execution_count": 23,
     "metadata": {},
     "output_type": "execute_result"
    }
   ],
   "source": [
    "area = lambda_A(d=d_, y_0=ys[0], y_1=ys[1], y_2=ys[2])\n",
    "area"
   ]
  },
  {
   "cell_type": "code",
   "execution_count": 75,
   "id": "47f406dc-ee09-46fb-9a63-bbf848d0fdb4",
   "metadata": {
    "tags": []
   },
   "outputs": [
    {
     "data": {
      "text/plain": [
       "4.5"
      ]
     },
     "execution_count": 75,
     "metadata": {},
     "output_type": "execute_result"
    }
   ],
   "source": [
    "scipy.integrate.trapezoid(y=ys,x=xs)"
   ]
  },
  {
   "cell_type": "code",
   "execution_count": null,
   "id": "871b7ea9-48d5-474c-9976-62683804e789",
   "metadata": {
    "tags": []
   },
   "outputs": [
    {
     "data": {
      "text/plain": [
       "4.5"
      ]
     },
     "execution_count": 25,
     "metadata": {},
     "output_type": "execute_result"
    }
   ],
   "source": [
    "d_*(1/2*ys[0]+ys[1]+1/2*ys[2])"
   ]
  },
  {
   "cell_type": "code",
   "execution_count": 76,
   "id": "4c06a009-6f3e-410a-bc63-96b6a061156b",
   "metadata": {
    "tags": []
   },
   "outputs": [
    {
     "data": {
      "text/plain": [
       "5.0"
      ]
     },
     "execution_count": 76,
     "metadata": {},
     "output_type": "execute_result"
    }
   ],
   "source": [
    "scipy.integrate.simpson(y=ys,x=xs)"
   ]
  },
  {
   "cell_type": "code",
   "execution_count": 35,
   "id": "23ee0f3a-c62b-4994-9d45-fc962b6ce2d4",
   "metadata": {
    "tags": []
   },
   "outputs": [
    {
     "data": {
      "text/latex": [
       "$\\displaystyle A_{0} = \\frac{C \\left(y_{0} + 4 y_{1} + y_{2}\\right)}{2}$"
      ],
      "text/plain": [
       "Eq(A_0, C*(y_0 + 4*y_1 + y_2)/2)"
      ]
     },
     "metadata": {},
     "output_type": "display_data"
    },
    {
     "data": {
      "text/latex": [
       "$\\displaystyle A_{1} = \\frac{C \\left(y_{2} + 4 y_{3} + y_{4}\\right)}{2}$"
      ],
      "text/plain": [
       "Eq(A_1, C*(y_2 + 4*y_3 + y_4)/2)"
      ]
     },
     "metadata": {},
     "output_type": "display_data"
    }
   ],
   "source": [
    "y_3,y_4 = symbols(\"y_3,y_4\")\n",
    "A_0,A_1 = symbols(\"A_0,A_1\")\n",
    "\n",
    "eq_A_y0 = eq_A_y_C.subs([\n",
    "    (A,A_0),])\n",
    "\n",
    "eq_A_y1 = eq_A_y_C.subs([\n",
    "    (A,A_1),\n",
    "    (y_1,y_3),\n",
    "    (y_2,y_4),\n",
    "    (y_0,y_2),\n",
    "])\n",
    "\n",
    "display(eq_A_y0)\n",
    "display(eq_A_y1)\n"
   ]
  },
  {
   "cell_type": "code",
   "execution_count": 36,
   "id": "0dc9f8b0-0cf3-4ca8-8805-7c44fcab2d9e",
   "metadata": {
    "tags": []
   },
   "outputs": [
    {
     "data": {
      "text/latex": [
       "$\\displaystyle A = A_{0} + A_{1}$"
      ],
      "text/plain": [
       "Eq(A, A_0 + A_1)"
      ]
     },
     "execution_count": 36,
     "metadata": {},
     "output_type": "execute_result"
    }
   ],
   "source": [
    "eq_A_tot_ = Eq(A,A_0+A_1)\n",
    "eq_A_tot_"
   ]
  },
  {
   "cell_type": "code",
   "execution_count": 37,
   "id": "c5922ebb-f426-4ec0-ae24-fd4700e93da8",
   "metadata": {
    "tags": []
   },
   "outputs": [
    {
     "data": {
      "text/latex": [
       "$\\displaystyle A = \\frac{C \\left(y_{0} + 4 y_{1} + 2 y_{2} + 4 y_{3} + y_{4}\\right)}{2}$"
      ],
      "text/plain": [
       "Eq(A, C*(y_0 + 4*y_1 + 2*y_2 + 4*y_3 + y_4)/2)"
      ]
     },
     "execution_count": 37,
     "metadata": {},
     "output_type": "execute_result"
    }
   ],
   "source": [
    "eq_A_tot = sp.simplify(eq_A_tot_.subs([\n",
    "    (A_0,eq_A_y0.rhs),\n",
    "    (A_1,eq_A_y1.rhs),\n",
    "]))\n",
    "eq_A_tot"
   ]
  },
  {
   "cell_type": "code",
   "execution_count": 128,
   "id": "74a4a98b-53dc-46b3-b07d-2f96e59d2225",
   "metadata": {
    "tags": []
   },
   "outputs": [],
   "source": [
    "def simpson_multipliers(y):\n",
    "    \n",
    "    N = len(y)\n",
    "    assert len(y) >= 3, \"At least three points must exist for simsons integration\"\n",
    "    assert N%2==1, \"There must be an uneven number of stations for this simple rule to hold\"\n",
    "    n = int(np.floor(N/2))\n",
    "    multipliers = 0.5*np.ones(N)\n",
    "    multipliers[0:2*n] = np.tile([1.0,2.0],n)\n",
    "    multipliers[0]=0.5\n",
    "    multipliers[-1]=0.5\n",
    "        \n",
    "    return multipliers\n",
    "    "
   ]
  },
  {
   "cell_type": "code",
   "execution_count": 130,
   "id": "59d4f88b-2973-4f14-b508-15880a50e4b9",
   "metadata": {
    "tags": []
   },
   "outputs": [
    {
     "data": {
      "text/plain": [
       "array([0.5, 2. , 0.5])"
      ]
     },
     "execution_count": 130,
     "metadata": {},
     "output_type": "execute_result"
    }
   ],
   "source": [
    "simpson_multipliers(ys)"
   ]
  },
  {
   "cell_type": "code",
   "execution_count": 131,
   "id": "9d5cde21-58f5-4822-80c5-bbfd155985f2",
   "metadata": {
    "tags": []
   },
   "outputs": [],
   "source": [
    "def simpson_table(y):\n",
    "    \n",
    "    df = pd.DataFrame()\n",
    "    df['y'] = y\n",
    "    df['S/M'] = simpson_multipliers(y=y)\n",
    "    df['product'] = df['y']*df['S/M']\n",
    "    \n",
    "    return df\n",
    "    "
   ]
  },
  {
   "cell_type": "code",
   "execution_count": 132,
   "id": "75fd4d5f-6ba9-485d-a3eb-05050815a19a",
   "metadata": {
    "tags": []
   },
   "outputs": [
    {
     "data": {
      "text/html": [
       "<div>\n",
       "<style scoped>\n",
       "    .dataframe tbody tr th:only-of-type {\n",
       "        vertical-align: middle;\n",
       "    }\n",
       "\n",
       "    .dataframe tbody tr th {\n",
       "        vertical-align: top;\n",
       "    }\n",
       "\n",
       "    .dataframe thead th {\n",
       "        text-align: right;\n",
       "    }\n",
       "</style>\n",
       "<table border=\"1\" class=\"dataframe\">\n",
       "  <thead>\n",
       "    <tr style=\"text-align: right;\">\n",
       "      <th></th>\n",
       "      <th>y</th>\n",
       "      <th>S/M</th>\n",
       "      <th>product</th>\n",
       "    </tr>\n",
       "  </thead>\n",
       "  <tbody>\n",
       "    <tr>\n",
       "      <th>0</th>\n",
       "      <td>1</td>\n",
       "      <td>0.5</td>\n",
       "      <td>0.5</td>\n",
       "    </tr>\n",
       "    <tr>\n",
       "      <th>1</th>\n",
       "      <td>3</td>\n",
       "      <td>2.0</td>\n",
       "      <td>6.0</td>\n",
       "    </tr>\n",
       "    <tr>\n",
       "      <th>2</th>\n",
       "      <td>2</td>\n",
       "      <td>0.5</td>\n",
       "      <td>1.0</td>\n",
       "    </tr>\n",
       "  </tbody>\n",
       "</table>\n",
       "</div>"
      ],
      "text/plain": [
       "   y  S/M  product\n",
       "0  1  0.5      0.5\n",
       "1  3  2.0      6.0\n",
       "2  2  0.5      1.0"
      ]
     },
     "execution_count": 132,
     "metadata": {},
     "output_type": "execute_result"
    }
   ],
   "source": [
    "simpson_table(ys)"
   ]
  },
  {
   "cell_type": "code",
   "execution_count": 145,
   "id": "861bb689-ed21-4274-af6e-d19ed54e7f78",
   "metadata": {
    "tags": []
   },
   "outputs": [],
   "source": [
    "def simpson(y,d:float):\n",
    "       \n",
    "    df = simpson_table(y)\n",
    "    integral = 2/3*d*df['product'].sum()\n",
    "    return integral"
   ]
  },
  {
   "cell_type": "code",
   "execution_count": 146,
   "id": "48d4b882-8d43-4597-9500-21a32d3e1b77",
   "metadata": {
    "tags": []
   },
   "outputs": [
    {
     "data": {
      "text/plain": [
       "5.0"
      ]
     },
     "execution_count": 146,
     "metadata": {},
     "output_type": "execute_result"
    }
   ],
   "source": [
    "simpson(y=ys,d=d_)"
   ]
  },
  {
   "cell_type": "code",
   "execution_count": 147,
   "id": "97a15078-4d1b-4161-b6d5-5da377c765ca",
   "metadata": {
    "tags": []
   },
   "outputs": [],
   "source": [
    "ys_ = np.random.rand(101)\n",
    "assert_almost_equal(simpson(y=ys_, d=d_), scipy.integrate.simpson(ys_,dx=d_))"
   ]
  }
 ],
 "metadata": {
  "kernelspec": {
   "display_name": "Python 3 (ipykernel)",
   "language": "python",
   "name": "python3"
  },
  "language_info": {
   "codemirror_mode": {
    "name": "ipython",
    "version": 3
   },
   "file_extension": ".py",
   "mimetype": "text/x-python",
   "name": "python",
   "nbconvert_exporter": "python",
   "pygments_lexer": "ipython3",
   "version": "3.10.13"
  }
 },
 "nbformat": 4,
 "nbformat_minor": 5
}
