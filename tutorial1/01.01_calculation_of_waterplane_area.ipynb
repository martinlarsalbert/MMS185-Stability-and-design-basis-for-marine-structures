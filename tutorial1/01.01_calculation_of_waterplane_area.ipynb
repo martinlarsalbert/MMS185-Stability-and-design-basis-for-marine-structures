{
 "cells": [
  {
   "cell_type": "markdown",
   "id": "1553d315-2da6-4eab-9336-81e10fe99f17",
   "metadata": {},
   "source": [
    "# 1.1 Calculation of waterplane area\n",
    "A vessel has the following half-breadths at equal intervals:"
   ]
  },
  {
   "cell_type": "code",
   "execution_count": 32,
   "id": "0a2ab575-14df-4af6-a247-7b1867936d75",
   "metadata": {
    "tags": []
   },
   "outputs": [],
   "source": [
    "import pandas as pd\n",
    "from mms185 import simpson\n",
    "import matplotlib.pyplot as plt\n",
    "import numpy as np"
   ]
  },
  {
   "cell_type": "code",
   "execution_count": 16,
   "id": "a554b51d-1fe0-4eba-8c9c-f1ee689da501",
   "metadata": {
    "tags": []
   },
   "outputs": [],
   "source": [
    "df = pd.DataFrame()\n",
    "y2=[3.0, 6.0, 8.0, 8.5, 7.8, 7.0, 5.5, 3.5, 0.0]\n",
    "df['ordinate'] = np.arange(len(y2))\n",
    "df['y/2'] = y2\n"
   ]
  },
  {
   "cell_type": "code",
   "execution_count": 17,
   "id": "f642399b-127b-46d1-b0d0-719d39157770",
   "metadata": {
    "tags": []
   },
   "outputs": [
    {
     "data": {
      "text/html": [
       "<div>\n",
       "<style scoped>\n",
       "    .dataframe tbody tr th:only-of-type {\n",
       "        vertical-align: middle;\n",
       "    }\n",
       "\n",
       "    .dataframe tbody tr th {\n",
       "        vertical-align: top;\n",
       "    }\n",
       "\n",
       "    .dataframe thead th {\n",
       "        text-align: right;\n",
       "    }\n",
       "</style>\n",
       "<table border=\"1\" class=\"dataframe\">\n",
       "  <thead>\n",
       "    <tr style=\"text-align: right;\">\n",
       "      <th></th>\n",
       "      <th>ordinate</th>\n",
       "      <th>y/2</th>\n",
       "    </tr>\n",
       "  </thead>\n",
       "  <tbody>\n",
       "    <tr>\n",
       "      <th>0</th>\n",
       "      <td>0</td>\n",
       "      <td>3.0</td>\n",
       "    </tr>\n",
       "    <tr>\n",
       "      <th>1</th>\n",
       "      <td>1</td>\n",
       "      <td>6.0</td>\n",
       "    </tr>\n",
       "    <tr>\n",
       "      <th>2</th>\n",
       "      <td>2</td>\n",
       "      <td>8.0</td>\n",
       "    </tr>\n",
       "    <tr>\n",
       "      <th>3</th>\n",
       "      <td>3</td>\n",
       "      <td>8.5</td>\n",
       "    </tr>\n",
       "    <tr>\n",
       "      <th>4</th>\n",
       "      <td>4</td>\n",
       "      <td>7.8</td>\n",
       "    </tr>\n",
       "    <tr>\n",
       "      <th>5</th>\n",
       "      <td>5</td>\n",
       "      <td>7.0</td>\n",
       "    </tr>\n",
       "    <tr>\n",
       "      <th>6</th>\n",
       "      <td>6</td>\n",
       "      <td>5.5</td>\n",
       "    </tr>\n",
       "    <tr>\n",
       "      <th>7</th>\n",
       "      <td>7</td>\n",
       "      <td>3.5</td>\n",
       "    </tr>\n",
       "    <tr>\n",
       "      <th>8</th>\n",
       "      <td>8</td>\n",
       "      <td>0.0</td>\n",
       "    </tr>\n",
       "  </tbody>\n",
       "</table>\n",
       "</div>"
      ],
      "text/plain": [
       "   ordinate  y/2\n",
       "0         0  3.0\n",
       "1         1  6.0\n",
       "2         2  8.0\n",
       "3         3  8.5\n",
       "4         4  7.8\n",
       "5         5  7.0\n",
       "6         6  5.5\n",
       "7         7  3.5\n",
       "8         8  0.0"
      ]
     },
     "execution_count": 17,
     "metadata": {},
     "output_type": "execute_result"
    }
   ],
   "source": [
    "df"
   ]
  },
  {
   "cell_type": "markdown",
   "id": "f06a9991-7d59-42f7-be09-b7642b130fcc",
   "metadata": {},
   "source": [
    "## Calculate the vessel’s waterplane area (WPA). \n",
    "(The length of the WPA is 160m.)"
   ]
  },
  {
   "cell_type": "markdown",
   "id": "b290dfcd-0e86-4aae-b34a-a8a1082d9654",
   "metadata": {},
   "source": [
    "### Adding the stations x coordinates and plot the water plane area"
   ]
  },
  {
   "cell_type": "code",
   "execution_count": 56,
   "id": "d04e793c-a679-4be7-9661-c268198949ab",
   "metadata": {
    "tags": []
   },
   "outputs": [],
   "source": [
    "N = len(df)\n",
    "L_WPA = 160 \n",
    "df['x'] = df['ordinate']/(N-1)*L_WPA"
   ]
  },
  {
   "cell_type": "code",
   "execution_count": 57,
   "id": "17baf893-3a8d-4293-bfa9-127585c608b2",
   "metadata": {
    "tags": []
   },
   "outputs": [
    {
     "data": {
      "text/html": [
       "<div>\n",
       "<style scoped>\n",
       "    .dataframe tbody tr th:only-of-type {\n",
       "        vertical-align: middle;\n",
       "    }\n",
       "\n",
       "    .dataframe tbody tr th {\n",
       "        vertical-align: top;\n",
       "    }\n",
       "\n",
       "    .dataframe thead th {\n",
       "        text-align: right;\n",
       "    }\n",
       "</style>\n",
       "<table border=\"1\" class=\"dataframe\">\n",
       "  <thead>\n",
       "    <tr style=\"text-align: right;\">\n",
       "      <th></th>\n",
       "      <th>ordinate</th>\n",
       "      <th>y/2</th>\n",
       "      <th>x</th>\n",
       "    </tr>\n",
       "  </thead>\n",
       "  <tbody>\n",
       "    <tr>\n",
       "      <th>0</th>\n",
       "      <td>0</td>\n",
       "      <td>3.0</td>\n",
       "      <td>0.0</td>\n",
       "    </tr>\n",
       "    <tr>\n",
       "      <th>1</th>\n",
       "      <td>1</td>\n",
       "      <td>6.0</td>\n",
       "      <td>20.0</td>\n",
       "    </tr>\n",
       "    <tr>\n",
       "      <th>2</th>\n",
       "      <td>2</td>\n",
       "      <td>8.0</td>\n",
       "      <td>40.0</td>\n",
       "    </tr>\n",
       "    <tr>\n",
       "      <th>3</th>\n",
       "      <td>3</td>\n",
       "      <td>8.5</td>\n",
       "      <td>60.0</td>\n",
       "    </tr>\n",
       "    <tr>\n",
       "      <th>4</th>\n",
       "      <td>4</td>\n",
       "      <td>7.8</td>\n",
       "      <td>80.0</td>\n",
       "    </tr>\n",
       "    <tr>\n",
       "      <th>5</th>\n",
       "      <td>5</td>\n",
       "      <td>7.0</td>\n",
       "      <td>100.0</td>\n",
       "    </tr>\n",
       "    <tr>\n",
       "      <th>6</th>\n",
       "      <td>6</td>\n",
       "      <td>5.5</td>\n",
       "      <td>120.0</td>\n",
       "    </tr>\n",
       "    <tr>\n",
       "      <th>7</th>\n",
       "      <td>7</td>\n",
       "      <td>3.5</td>\n",
       "      <td>140.0</td>\n",
       "    </tr>\n",
       "    <tr>\n",
       "      <th>8</th>\n",
       "      <td>8</td>\n",
       "      <td>0.0</td>\n",
       "      <td>160.0</td>\n",
       "    </tr>\n",
       "  </tbody>\n",
       "</table>\n",
       "</div>"
      ],
      "text/plain": [
       "   ordinate  y/2      x\n",
       "0         0  3.0    0.0\n",
       "1         1  6.0   20.0\n",
       "2         2  8.0   40.0\n",
       "3         3  8.5   60.0\n",
       "4         4  7.8   80.0\n",
       "5         5  7.0  100.0\n",
       "6         6  5.5  120.0\n",
       "7         7  3.5  140.0\n",
       "8         8  0.0  160.0"
      ]
     },
     "execution_count": 57,
     "metadata": {},
     "output_type": "execute_result"
    }
   ],
   "source": [
    "df"
   ]
  },
  {
   "cell_type": "code",
   "execution_count": 58,
   "id": "8578ae27-cdb8-443a-9e10-69a1d87622b6",
   "metadata": {
    "tags": []
   },
   "outputs": [
    {
     "data": {
      "image/png": "[encoded data removed]",
      "text/plain": [
       "<Figure size 640x480 with 1 Axes>"
      ]
     },
     "metadata": {},
     "output_type": "display_data"
    }
   ],
   "source": [
    "fig,ax=plt.subplots()\n",
    "df.plot(x='x',y='y/2',style='ro-',ax=ax)\n",
    "ax.plot(df['x'],-np.array(y2),color='g')\n",
    "ax.axis('equal');\n",
    "ax.set_ylabel(\"y [m]\")\n",
    "ax.set_xlabel(\"x [m]\")\n",
    "ax.grid(True)\n",
    "ax.set_xticks(df['x']);"
   ]
  },
  {
   "cell_type": "markdown",
   "id": "8179944d-9af9-4717-a818-a619f50c9c14",
   "metadata": {},
   "source": [
    "### Make a table with Simpson multipliers"
   ]
  },
  {
   "cell_type": "code",
   "execution_count": 59,
   "id": "47b90773-aa48-4d1d-b870-76e95a7e3379",
   "metadata": {
    "tags": []
   },
   "outputs": [
    {
     "data": {
      "text/html": [
       "<div>\n",
       "<style scoped>\n",
       "    .dataframe tbody tr th:only-of-type {\n",
       "        vertical-align: middle;\n",
       "    }\n",
       "\n",
       "    .dataframe tbody tr th {\n",
       "        vertical-align: top;\n",
       "    }\n",
       "\n",
       "    .dataframe thead th {\n",
       "        text-align: right;\n",
       "    }\n",
       "</style>\n",
       "<table border=\"1\" class=\"dataframe\">\n",
       "  <thead>\n",
       "    <tr style=\"text-align: right;\">\n",
       "      <th></th>\n",
       "      <th>y</th>\n",
       "      <th>S/M</th>\n",
       "      <th>product</th>\n",
       "    </tr>\n",
       "  </thead>\n",
       "  <tbody>\n",
       "    <tr>\n",
       "      <th>0</th>\n",
       "      <td>3.0</td>\n",
       "      <td>0.5</td>\n",
       "      <td>1.5</td>\n",
       "    </tr>\n",
       "    <tr>\n",
       "      <th>1</th>\n",
       "      <td>6.0</td>\n",
       "      <td>2.0</td>\n",
       "      <td>12.0</td>\n",
       "    </tr>\n",
       "    <tr>\n",
       "      <th>2</th>\n",
       "      <td>8.0</td>\n",
       "      <td>1.0</td>\n",
       "      <td>8.0</td>\n",
       "    </tr>\n",
       "    <tr>\n",
       "      <th>3</th>\n",
       "      <td>8.5</td>\n",
       "      <td>2.0</td>\n",
       "      <td>17.0</td>\n",
       "    </tr>\n",
       "    <tr>\n",
       "      <th>4</th>\n",
       "      <td>7.8</td>\n",
       "      <td>1.0</td>\n",
       "      <td>7.8</td>\n",
       "    </tr>\n",
       "    <tr>\n",
       "      <th>5</th>\n",
       "      <td>7.0</td>\n",
       "      <td>2.0</td>\n",
       "      <td>14.0</td>\n",
       "    </tr>\n",
       "    <tr>\n",
       "      <th>6</th>\n",
       "      <td>5.5</td>\n",
       "      <td>1.0</td>\n",
       "      <td>5.5</td>\n",
       "    </tr>\n",
       "    <tr>\n",
       "      <th>7</th>\n",
       "      <td>3.5</td>\n",
       "      <td>2.0</td>\n",
       "      <td>7.0</td>\n",
       "    </tr>\n",
       "    <tr>\n",
       "      <th>8</th>\n",
       "      <td>0.0</td>\n",
       "      <td>0.5</td>\n",
       "      <td>0.0</td>\n",
       "    </tr>\n",
       "  </tbody>\n",
       "</table>\n",
       "</div>"
      ],
      "text/plain": [
       "     y  S/M  product\n",
       "0  3.0  0.5      1.5\n",
       "1  6.0  2.0     12.0\n",
       "2  8.0  1.0      8.0\n",
       "3  8.5  2.0     17.0\n",
       "4  7.8  1.0      7.8\n",
       "5  7.0  2.0     14.0\n",
       "6  5.5  1.0      5.5\n",
       "7  3.5  2.0      7.0\n",
       "8  0.0  0.5      0.0"
      ]
     },
     "execution_count": 59,
     "metadata": {},
     "output_type": "execute_result"
    }
   ],
   "source": [
    "simpson.simpson_table(y=df['y/2'])"
   ]
  },
  {
   "cell_type": "markdown",
   "id": "c2e98290-8332-45b5-9e3a-6fa3bc446960",
   "metadata": {},
   "source": [
    "### Calculate the distance between the stations"
   ]
  },
  {
   "cell_type": "code",
   "execution_count": 60,
   "id": "b0a42687-5fa4-4d80-b1e7-700622985e25",
   "metadata": {
    "tags": []
   },
   "outputs": [
    {
     "data": {
      "text/plain": [
       "20.0"
      ]
     },
     "execution_count": 60,
     "metadata": {},
     "output_type": "execute_result"
    }
   ],
   "source": [
    "d = L_WPA/(N-1)\n",
    "d"
   ]
  },
  {
   "cell_type": "markdown",
   "id": "35e201f9-cd3e-4f2f-82a8-d5c0cd36b9c2",
   "metadata": {},
   "source": [
    "## Calculate the half area with Simpson's rule - summing the products of the y/2 and simpson multipliers (S/M)."
   ]
  },
  {
   "cell_type": "code",
   "execution_count": 61,
   "id": "c2aa0c7e-07ac-4496-8a6c-5368b21cff56",
   "metadata": {
    "tags": []
   },
   "outputs": [
    {
     "data": {
      "text/plain": [
       "970.6666666666665"
      ]
     },
     "execution_count": 61,
     "metadata": {},
     "output_type": "execute_result"
    }
   ],
   "source": [
    "A_port = simpson.simpson(y=df['y/2'], d=20)\n",
    "A_port"
   ]
  },
  {
   "cell_type": "markdown",
   "id": "a848b6fe-44de-428a-8b09-20fd203ce073",
   "metadata": {},
   "source": [
    "## Calcualting the total area, also adding the other side..."
   ]
  },
  {
   "cell_type": "code",
   "execution_count": 62,
   "id": "56ff9e6b-3fdd-4c4b-b800-d87f748e1e98",
   "metadata": {
    "tags": []
   },
   "outputs": [
    {
     "data": {
      "text/plain": [
       "1941.333333333333"
      ]
     },
     "execution_count": 62,
     "metadata": {},
     "output_type": "execute_result"
    }
   ],
   "source": [
    "A = 2*A_port\n",
    "A"
   ]
  },
  {
   "cell_type": "markdown",
   "id": "32d49eaa-3dba-4add-92f5-d589eaf5ee98",
   "metadata": {},
   "source": [
    "# Answer\n",
    "The water plane area (WPA) is 1941 $m^2$."
   ]
  }
 ],
 "metadata": {
  "kernelspec": {
   "display_name": "Python 3 (ipykernel)",
   "language": "python",
   "name": "python3"
  },
  "language_info": {
   "codemirror_mode": {
    "name": "ipython",
    "version": 3
   },
   "file_extension": ".py",
   "mimetype": "text/x-python",
   "name": "python",
   "nbconvert_exporter": "python",
   "pygments_lexer": "ipython3",
   "version": "3.10.13"
  }
 },
 "nbformat": 4,
 "nbformat_minor": 5
}
