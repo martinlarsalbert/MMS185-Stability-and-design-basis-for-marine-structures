{
 "cells": [
  {
   "cell_type": "markdown",
   "id": "1fb576c1-76c5-4648-80de-b8330cc1f7b7",
   "metadata": {
    "tags": []
   },
   "source": [
    "# 1.2 Displacement and $LCB$ of a sailing_yacht\n",
    "![](../figures/yacht.png)"
   ]
  },
  {
   "cell_type": "code",
   "execution_count": 2,
   "id": "bc176eb7-8cf2-426a-8baa-7de74225022f",
   "metadata": {
    "tags": []
   },
   "outputs": [],
   "source": [
    "import pandas as pd\n",
    "from mms185 import simpson\n",
    "import matplotlib.pyplot as plt\n",
    "import numpy as np"
   ]
  },
  {
   "cell_type": "markdown",
   "id": "f82f1366-88e2-47b1-bde0-67ede08b6bc8",
   "metadata": {
    "tags": []
   },
   "source": [
    "Sectional areas of a vessel at a constant interval along the length (d=1 m) are as follows:"
   ]
  },
  {
   "cell_type": "code",
   "execution_count": 6,
   "id": "800d2aa4-4a66-4be8-a76c-84240e6197ee",
   "metadata": {
    "tags": []
   },
   "outputs": [
    {
     "data": {
      "text/html": [
       "<div>\n",
       "<style scoped>\n",
       "    .dataframe tbody tr th:only-of-type {\n",
       "        vertical-align: middle;\n",
       "    }\n",
       "\n",
       "    .dataframe tbody tr th {\n",
       "        vertical-align: top;\n",
       "    }\n",
       "\n",
       "    .dataframe thead th {\n",
       "        text-align: right;\n",
       "    }\n",
       "</style>\n",
       "<table border=\"1\" class=\"dataframe\">\n",
       "  <thead>\n",
       "    <tr style=\"text-align: right;\">\n",
       "      <th></th>\n",
       "      <th>ordinate</th>\n",
       "      <th>area [m2]</th>\n",
       "    </tr>\n",
       "  </thead>\n",
       "  <tbody>\n",
       "    <tr>\n",
       "      <th>0</th>\n",
       "      <td>0</td>\n",
       "      <td>0.00</td>\n",
       "    </tr>\n",
       "    <tr>\n",
       "      <th>1</th>\n",
       "      <td>1</td>\n",
       "      <td>0.21</td>\n",
       "    </tr>\n",
       "    <tr>\n",
       "      <th>2</th>\n",
       "      <td>2</td>\n",
       "      <td>0.50</td>\n",
       "    </tr>\n",
       "    <tr>\n",
       "      <th>3</th>\n",
       "      <td>3</td>\n",
       "      <td>0.71</td>\n",
       "    </tr>\n",
       "    <tr>\n",
       "      <th>4</th>\n",
       "      <td>4</td>\n",
       "      <td>0.82</td>\n",
       "    </tr>\n",
       "    <tr>\n",
       "      <th>5</th>\n",
       "      <td>5</td>\n",
       "      <td>0.79</td>\n",
       "    </tr>\n",
       "    <tr>\n",
       "      <th>6</th>\n",
       "      <td>6</td>\n",
       "      <td>0.68</td>\n",
       "    </tr>\n",
       "    <tr>\n",
       "      <th>7</th>\n",
       "      <td>7</td>\n",
       "      <td>0.15</td>\n",
       "    </tr>\n",
       "    <tr>\n",
       "      <th>8</th>\n",
       "      <td>8</td>\n",
       "      <td>0.08</td>\n",
       "    </tr>\n",
       "    <tr>\n",
       "      <th>9</th>\n",
       "      <td>9</td>\n",
       "      <td>0.02</td>\n",
       "    </tr>\n",
       "    <tr>\n",
       "      <th>10</th>\n",
       "      <td>10</td>\n",
       "      <td>0.00</td>\n",
       "    </tr>\n",
       "  </tbody>\n",
       "</table>\n",
       "</div>"
      ],
      "text/plain": [
       "    ordinate  area [m2]\n",
       "0          0       0.00\n",
       "1          1       0.21\n",
       "2          2       0.50\n",
       "3          3       0.71\n",
       "4          4       0.82\n",
       "5          5       0.79\n",
       "6          6       0.68\n",
       "7          7       0.15\n",
       "8          8       0.08\n",
       "9          9       0.02\n",
       "10        10       0.00"
      ]
     },
     "execution_count": 6,
     "metadata": {},
     "output_type": "execute_result"
    }
   ],
   "source": [
    "df = pd.DataFrame()\n",
    "area=[0.00, 0.21, 0.50, 0.71, 0.82, 0.79, 0.68, 0.15, 0.08, 0.02, 0.00]\n",
    "df['ordinate'] = np.arange(len(area))\n",
    "df['area [m2]'] = area\n",
    "df"
   ]
  },
  {
   "cell_type": "markdown",
   "id": "52200b63-2777-49ff-93dc-77ef18b16817",
   "metadata": {
    "tags": []
   },
   "source": [
    "## Find the vessels displacement ($\\Delta$) in tonnes (saltwater)\n",
    "The displacement in tonnes can be calculated as the volume $\\nabla$ times the density $\\rho$ of salt water (1.025 tonnes/m3)\n",
    "\n",
    "$$ \\Delta=\\nabla \\cdot \\rho $$\n",
    "\n",
    "The volume can be calculated as the integral of the section areas along the length of the ship:\n",
    "\n",
    "$$ V = \\int_{AP}^{FP} A \\cdot dx $$\n",
    "\n",
    "Using simspon integration that yields:\n",
    "$$ \\frac{2d}{3} \\sum_{n=0}^{10} S/M \\cdot A $$"
   ]
  },
  {
   "cell_type": "code",
   "execution_count": 9,
   "id": "78be8452-a3ed-48f3-91e7-a0473404001b",
   "metadata": {
    "tags": []
   },
   "outputs": [
    {
     "data": {
      "text/html": [
       "<div>\n",
       "<style scoped>\n",
       "    .dataframe tbody tr th:only-of-type {\n",
       "        vertical-align: middle;\n",
       "    }\n",
       "\n",
       "    .dataframe tbody tr th {\n",
       "        vertical-align: top;\n",
       "    }\n",
       "\n",
       "    .dataframe thead th {\n",
       "        text-align: right;\n",
       "    }\n",
       "</style>\n",
       "<table border=\"1\" class=\"dataframe\">\n",
       "  <thead>\n",
       "    <tr style=\"text-align: right;\">\n",
       "      <th></th>\n",
       "      <th>y</th>\n",
       "      <th>S/M</th>\n",
       "      <th>product</th>\n",
       "    </tr>\n",
       "  </thead>\n",
       "  <tbody>\n",
       "    <tr>\n",
       "      <th>0</th>\n",
       "      <td>0.00</td>\n",
       "      <td>0.5</td>\n",
       "      <td>0.00</td>\n",
       "    </tr>\n",
       "    <tr>\n",
       "      <th>1</th>\n",
       "      <td>0.21</td>\n",
       "      <td>2.0</td>\n",
       "      <td>0.42</td>\n",
       "    </tr>\n",
       "    <tr>\n",
       "      <th>2</th>\n",
       "      <td>0.50</td>\n",
       "      <td>1.0</td>\n",
       "      <td>0.50</td>\n",
       "    </tr>\n",
       "    <tr>\n",
       "      <th>3</th>\n",
       "      <td>0.71</td>\n",
       "      <td>2.0</td>\n",
       "      <td>1.42</td>\n",
       "    </tr>\n",
       "    <tr>\n",
       "      <th>4</th>\n",
       "      <td>0.82</td>\n",
       "      <td>1.0</td>\n",
       "      <td>0.82</td>\n",
       "    </tr>\n",
       "    <tr>\n",
       "      <th>5</th>\n",
       "      <td>0.79</td>\n",
       "      <td>2.0</td>\n",
       "      <td>1.58</td>\n",
       "    </tr>\n",
       "    <tr>\n",
       "      <th>6</th>\n",
       "      <td>0.68</td>\n",
       "      <td>1.0</td>\n",
       "      <td>0.68</td>\n",
       "    </tr>\n",
       "    <tr>\n",
       "      <th>7</th>\n",
       "      <td>0.15</td>\n",
       "      <td>2.0</td>\n",
       "      <td>0.30</td>\n",
       "    </tr>\n",
       "    <tr>\n",
       "      <th>8</th>\n",
       "      <td>0.08</td>\n",
       "      <td>1.0</td>\n",
       "      <td>0.08</td>\n",
       "    </tr>\n",
       "    <tr>\n",
       "      <th>9</th>\n",
       "      <td>0.02</td>\n",
       "      <td>2.0</td>\n",
       "      <td>0.04</td>\n",
       "    </tr>\n",
       "    <tr>\n",
       "      <th>10</th>\n",
       "      <td>0.00</td>\n",
       "      <td>0.5</td>\n",
       "      <td>0.00</td>\n",
       "    </tr>\n",
       "  </tbody>\n",
       "</table>\n",
       "</div>"
      ],
      "text/plain": [
       "       y  S/M  product\n",
       "0   0.00  0.5     0.00\n",
       "1   0.21  2.0     0.42\n",
       "2   0.50  1.0     0.50\n",
       "3   0.71  2.0     1.42\n",
       "4   0.82  1.0     0.82\n",
       "5   0.79  2.0     1.58\n",
       "6   0.68  1.0     0.68\n",
       "7   0.15  2.0     0.30\n",
       "8   0.08  1.0     0.08\n",
       "9   0.02  2.0     0.04\n",
       "10  0.00  0.5     0.00"
      ]
     },
     "execution_count": 9,
     "metadata": {},
     "output_type": "execute_result"
    }
   ],
   "source": [
    "simpson.simpson_table(y=df['area [m2]'])"
   ]
  },
  {
   "cell_type": "code",
   "execution_count": 13,
   "id": "8b646ed2-3096-4377-ad96-d8cb0394bc9e",
   "metadata": {
    "tags": []
   },
   "outputs": [
    {
     "data": {
      "text/plain": [
       "3.893333333333333"
      ]
     },
     "execution_count": 13,
     "metadata": {},
     "output_type": "execute_result"
    }
   ],
   "source": [
    "d=1\n",
    "V = simpson.simpson(y=df['area [m2]'],d=d)\n",
    "V"
   ]
  },
  {
   "cell_type": "markdown",
   "id": "f99d1b67-d3b3-45af-831e-3c1d219d6ab3",
   "metadata": {},
   "source": [
    "The volume displacement $\\nabla$ of the yacht is 3.89 $m^3$"
   ]
  },
  {
   "cell_type": "code",
   "execution_count": 12,
   "id": "728288a8-0ad9-40a5-bc09-8382623d64e6",
   "metadata": {
    "tags": []
   },
   "outputs": [
    {
     "data": {
      "text/plain": [
       "3.990666666666666"
      ]
     },
     "execution_count": 12,
     "metadata": {},
     "output_type": "execute_result"
    }
   ],
   "source": [
    "rho=1.025\n",
    "M = rho*V\n",
    "M"
   ]
  },
  {
   "cell_type": "markdown",
   "id": "c759941d-a082-45bd-8d84-34a0ac39f102",
   "metadata": {},
   "source": [
    "The displacement is 4 tonnes in salt water."
   ]
  },
  {
   "cell_type": "markdown",
   "id": "aa8462ed-cbb2-4a3c-b3d8-5dc0c127eae3",
   "metadata": {},
   "source": [
    "## Find the longitudinal centre of buoyancy ($LCB$) from $AP$."
   ]
  },
  {
   "cell_type": "code",
   "execution_count": 14,
   "id": "8c46695d-4672-40af-9daa-60c627e992b9",
   "metadata": {
    "tags": []
   },
   "outputs": [],
   "source": [
    "N = len(df)\n",
    "df['x'] = df['ordinate']*d"
   ]
  },
  {
   "cell_type": "code",
   "execution_count": 18,
   "id": "b17ec60a-4aec-4dfc-86bc-2c8f1e9fb178",
   "metadata": {
    "tags": []
   },
   "outputs": [
    {
     "data": {
      "text/plain": [
       "4.116438356164383"
      ]
     },
     "execution_count": 18,
     "metadata": {},
     "output_type": "execute_result"
    }
   ],
   "source": [
    "y = df['area [m2]']*df['x']\n",
    "My = simpson.simpson(y=y,d=d)\n",
    "My/V\n"
   ]
  },
  {
   "cell_type": "markdown",
   "id": "6de7974f-167a-4def-8954-5b35a9b287fd",
   "metadata": {},
   "source": [
    "The longitudinal centre of buoyancy ($LCB$) is 4.12 m from $AP$."
   ]
  },
  {
   "cell_type": "code",
   "execution_count": null,
   "id": "c3ba9690-4d0a-4221-a319-d5c070913a8c",
   "metadata": {},
   "outputs": [],
   "source": []
  }
 ],
 "metadata": {
  "kernelspec": {
   "display_name": "Python 3 (ipykernel)",
   "language": "python",
   "name": "python3"
  },
  "language_info": {
   "codemirror_mode": {
    "name": "ipython",
    "version": 3
   },
   "file_extension": ".py",
   "mimetype": "text/x-python",
   "name": "python",
   "nbconvert_exporter": "python",
   "pygments_lexer": "ipython3",
   "version": "3.10.13"
  }
 },
 "nbformat": 4,
 "nbformat_minor": 5
}
