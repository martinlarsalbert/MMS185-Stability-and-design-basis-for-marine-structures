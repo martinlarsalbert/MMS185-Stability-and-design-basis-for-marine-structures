{
 "cells": [
  {
   "cell_type": "markdown",
   "metadata": {},
   "source": [
    "# Retrimming"
   ]
  },
  {
   "cell_type": "code",
   "execution_count": 1,
   "metadata": {},
   "outputs": [],
   "source": [
    "import pandas as pd\n",
    "from mms185 import simpson\n",
    "from mms185.sympy import lambdify,run\n",
    "import matplotlib.pyplot as plt\n",
    "import numpy as np\n",
    "from numpy import arctan,tan, sin, cos\n",
    "from sympy import symbols, Eq\n",
    "import sympy as sp\n",
    "import pandas as pd\n",
    "from sympy import Eq,symbols\n",
    "from IPython.display import display\n",
    "import numpy as np\n",
    "from numpy import tan\n",
    "from sympy import symbols,Eq"
   ]
  },
  {
   "cell_type": "code",
   "execution_count": 104,
   "metadata": {},
   "outputs": [],
   "source": [
    "Lpp,x,LCF_AP = symbols(\"Lpp,x,LCF_AP\")\n",
    "t,T_AP,T_FP,T_CF,delta_T,delta_t = symbols(\"t,T_AP,T_FP,T_CF,delta_T,delta_t\")\n",
    "t_initial,T_AP_initial,T_FP_initial,T_CF_initial,delta_T_initial,delta_t_initial = symbols(\"t_initial,T_AP_initial,T_FP_initial,T_CF_initial,\\delta{T}_{initial},\\delta{t}{_initial}\")\n",
    "t_new,T_AP_new,T_FP_new,T_CF_new,delta_T_new,delta_t_new = symbols(\"t_new,T_AP_new,T_FP_new,T_CF_new,\\delta{T}_{new},\\delta{t}_{new}\")"
   ]
  },
  {
   "cell_type": "code",
   "execution_count": 105,
   "metadata": {},
   "outputs": [
    {
     "data": {
      "text/latex": [
       "$\\displaystyle t = T_{AP} - T_{FP}$"
      ],
      "text/plain": [
       "Eq(t, T_AP - T_FP)"
      ]
     },
     "execution_count": 105,
     "metadata": {},
     "output_type": "execute_result"
    }
   ],
   "source": [
    "eq_t = Eq(t, T_AP-T_FP)\n",
    "eq_t"
   ]
  },
  {
   "cell_type": "code",
   "execution_count": 106,
   "metadata": {},
   "outputs": [
    {
     "data": {
      "text/latex": [
       "$\\displaystyle T{\\left(x \\right)} = T_{AP} + \\frac{x \\left(- T_{AP} + T_{FP}\\right)}{Lpp}$"
      ],
      "text/plain": [
       "Eq(T(x), T_AP + x*(-T_AP + T_FP)/Lpp)"
      ]
     },
     "execution_count": 106,
     "metadata": {},
     "output_type": "execute_result"
    }
   ],
   "source": [
    "T_x = sp.Function('T')(x)\n",
    "eq_T_x = Eq(T_x,T_AP+(T_FP-T_AP)/Lpp*x)\n",
    "eq_T_x"
   ]
  },
  {
   "cell_type": "code",
   "execution_count": 107,
   "metadata": {},
   "outputs": [],
   "source": [
    "eq_T_CF = Eq(T_CF, eq_T_x.subs([\n",
    "    (x,LCF_AP)\n",
    "]).rhs)"
   ]
  },
  {
   "cell_type": "code",
   "execution_count": 108,
   "metadata": {},
   "outputs": [
    {
     "data": {
      "text/plain": [
       "{T_CF: (-LCF_AP*t + Lpp*T_AP)/Lpp, T_FP: T_AP - t, T(x): (Lpp*T_AP - t*x)/Lpp}"
      ]
     },
     "execution_count": 108,
     "metadata": {},
     "output_type": "execute_result"
    }
   ],
   "source": [
    "eqs = [\n",
    "    eq_T_x,\n",
    "    eq_t,\n",
    "    eq_T_CF\n",
    "]\n",
    "solution = sp.solve(eqs, T_x, T_FP, T_CF, dict=True)[0]\n",
    "solution"
   ]
  },
  {
   "cell_type": "code",
   "execution_count": 109,
   "metadata": {},
   "outputs": [],
   "source": [
    "equations = {key:Eq(key,value) for key,value in solution.items()}"
   ]
  },
  {
   "cell_type": "code",
   "execution_count": 110,
   "metadata": {},
   "outputs": [
    {
     "data": {
      "text/latex": [
       "$\\displaystyle T_{CF} = \\frac{- LCF_{AP} t + Lpp T_{AP}}{Lpp}$"
      ],
      "text/plain": [
       "Eq(T_CF, (-LCF_AP*t + Lpp*T_AP)/Lpp)"
      ]
     },
     "metadata": {},
     "output_type": "display_data"
    },
    {
     "data": {
      "text/latex": [
       "$\\displaystyle T_{FP} = T_{AP} - t$"
      ],
      "text/plain": [
       "Eq(T_FP, T_AP - t)"
      ]
     },
     "metadata": {},
     "output_type": "display_data"
    },
    {
     "data": {
      "text/latex": [
       "$\\displaystyle T{\\left(x \\right)} = \\frac{Lpp T_{AP} - t x}{Lpp}$"
      ],
      "text/plain": [
       "Eq(T(x), (Lpp*T_AP - t*x)/Lpp)"
      ]
     },
     "metadata": {},
     "output_type": "display_data"
    }
   ],
   "source": [
    "for key,eq in equations.items():\n",
    "    display(eq)"
   ]
  },
  {
   "cell_type": "code",
   "execution_count": 111,
   "metadata": {},
   "outputs": [
    {
     "data": {
      "text/latex": [
       "$\\displaystyle T_{CF new} = T_{CF initial} + \\delta{T}_{initial}$"
      ],
      "text/plain": [
       "Eq(T_CF_new, T_CF_initial + \\delta{T}_{initial})"
      ]
     },
     "execution_count": 111,
     "metadata": {},
     "output_type": "execute_result"
    }
   ],
   "source": [
    "eq_T_CF_update = Eq(T_CF_new,T_CF_initial+delta_T_initial)\n",
    "eq_T_CF_update"
   ]
  },
  {
   "cell_type": "code",
   "execution_count": 113,
   "metadata": {},
   "outputs": [
    {
     "data": {
      "text/latex": [
       "$\\displaystyle T_{CF} = \\frac{- LCF_{AP} t + Lpp T_{AP}}{Lpp}$"
      ],
      "text/plain": [
       "Eq(T_CF, (-LCF_AP*t + Lpp*T_AP)/Lpp)"
      ]
     },
     "execution_count": 113,
     "metadata": {},
     "output_type": "execute_result"
    }
   ],
   "source": [
    "equations[T_CF]"
   ]
  },
  {
   "cell_type": "code",
   "execution_count": 114,
   "metadata": {},
   "outputs": [
    {
     "ename": "NameError",
     "evalue": "name 'meta_data' is not defined",
     "output_type": "error",
     "traceback": [
      "\u001b[0;31m---------------------------------------------------------------------------\u001b[0m",
      "\u001b[0;31mNameError\u001b[0m                                 Traceback (most recent call last)",
      "\u001b[1;32m/home/maa/dev/MMS185-Stability-and-design-basis-for-marine-structures/tutorial6/00.01_retrimming.ipynb Cell 12\u001b[0m line \u001b[0;36m1\n\u001b[0;32m----> <a href='vscode-notebook-cell://wsl%2Bubuntu/home/maa/dev/MMS185-Stability-and-design-basis-for-marine-structures/tutorial6/00.01_retrimming.ipynb#X20sdnNjb2RlLXJlbW90ZQ%3D%3D?line=0'>1</a>\u001b[0m meta_data\n",
      "\u001b[0;31mNameError\u001b[0m: name 'meta_data' is not defined"
     ]
    }
   ],
   "source": []
  },
  {
   "cell_type": "code",
   "execution_count": null,
   "metadata": {},
   "outputs": [],
   "source": []
  }
 ],
 "metadata": {
  "kernelspec": {
   "display_name": "Python 3",
   "language": "python",
   "name": "python3"
  },
  "language_info": {
   "codemirror_mode": {
    "name": "ipython",
    "version": 3
   },
   "file_extension": ".py",
   "mimetype": "text/x-python",
   "name": "python",
   "nbconvert_exporter": "python",
   "pygments_lexer": "ipython3",
   "version": "3.10.13"
  }
 },
 "nbformat": 4,
 "nbformat_minor": 2
}
