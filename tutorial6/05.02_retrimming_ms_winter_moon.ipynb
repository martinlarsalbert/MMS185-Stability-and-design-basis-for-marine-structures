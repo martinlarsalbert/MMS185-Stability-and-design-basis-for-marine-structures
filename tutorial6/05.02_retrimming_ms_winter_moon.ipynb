{
 "cells": [
  {
   "cell_type": "markdown",
   "metadata": {},
   "source": [
    "# 5.2 Retrimming MS Winter Moon"
   ]
  },
  {
   "cell_type": "code",
   "execution_count": 12,
   "metadata": {},
   "outputs": [],
   "source": [
    "import pandas as pd\n",
    "from mms185 import simpson\n",
    "from mms185.sympy import lambdify,run\n",
    "import matplotlib.pyplot as plt\n",
    "import numpy as np\n",
    "from numpy import arctan,tan, sin, cos\n",
    "from sympy import symbols, Eq\n",
    "import sympy as sp\n",
    "import pandas as pd\n",
    "from sympy import Eq,symbols\n",
    "from IPython.display import display\n",
    "import numpy as np\n",
    "from numpy import tan"
   ]
  },
  {
   "cell_type": "code",
   "execution_count": 62,
   "metadata": {},
   "outputs": [],
   "source": [
    "meta_data = {\n",
    "    \"KM\":10.924,            # [m]\n",
    "    \"KG\":10.47,             # [m]\n",
    "    \"TCG_DB\":9.07,          # [m]\n",
    "    \"phi\":np.deg2rad(6),    # [rad]  \n",
    "    \"displacement\":17583.3, # [t]\n",
    "    \"rho\":1.025,            # [t/m3]\n",
    "    \"LCF\":-4.498,           # [m] (fwd of lpp/2)  \n",
    "    \"LCG_DB\":12.11,         # [m]\n",
    "    \"TPcm\":28.1,            # [t/cm]\n",
    "    \"MTcm\":205.1,           # [tm/cm]\n",
    "    \"T_A\":7.95,             # [m]\n",
    "    \"T_F\":7.05,             # [m]\n",
    "    \"Lpp\":157.7,            # [m]\n",
    "    \"LCF\":-4.498,           # [m]\n",
    "       \n",
    "}\n",
    "meta_data=pd.Series(meta_data)"
   ]
  },
  {
   "cell_type": "code",
   "execution_count": 63,
   "metadata": {},
   "outputs": [
    {
     "data": {
      "text/plain": [
       "17583.6"
      ]
     },
     "execution_count": 63,
     "metadata": {},
     "output_type": "execute_result"
    }
   ],
   "source": [
    "delta_1 = 17546\n",
    "delta_2 = 17593\n",
    "t_1 = 0.5\n",
    "t_2 = 1.0\n",
    "t = 0.9\n",
    "(delta_2-delta_1)/(t_2-t_1)*(t-t_1) + delta_1"
   ]
  },
  {
   "cell_type": "code",
   "execution_count": 64,
   "metadata": {},
   "outputs": [
    {
     "data": {
      "text/plain": [
       "0.45399999999999885"
      ]
     },
     "execution_count": 64,
     "metadata": {},
     "output_type": "execute_result"
    }
   ],
   "source": [
    "calculation = pd.Series()\n",
    "calculation[\"GM\"] = meta_data[\"KM\"] - meta_data[\"KG\"]\n",
    "calculation[\"GM\"]"
   ]
  },
  {
   "cell_type": "code",
   "execution_count": 65,
   "metadata": {},
   "outputs": [
    {
     "data": {
      "text/plain": [
       "92.50584367981496"
      ]
     },
     "execution_count": 65,
     "metadata": {},
     "output_type": "execute_result"
    }
   ],
   "source": [
    "calculation[\"w_DB\"] = calculation.GM*tan(meta_data.phi)*meta_data.displacement/meta_data.TCG_DB\n",
    "calculation[\"w_DB\"]"
   ]
  },
  {
   "cell_type": "code",
   "execution_count": 66,
   "metadata": {},
   "outputs": [
    {
     "data": {
      "text/plain": [
       "90.24960359006339"
      ]
     },
     "execution_count": 66,
     "metadata": {},
     "output_type": "execute_result"
    }
   ],
   "source": [
    "calculation[\"volume_DB\"] = calculation[\"w_DB\"]/meta_data.rho\n",
    "calculation[\"volume_DB\"]"
   ]
  },
  {
   "cell_type": "code",
   "execution_count": 67,
   "metadata": {},
   "outputs": [
    {
     "data": {
      "text/plain": [
       "-16.608"
      ]
     },
     "execution_count": 67,
     "metadata": {},
     "output_type": "execute_result"
    }
   ],
   "source": [
    "calculation[\"d_DB\"] = -(meta_data.LCG_DB-meta_data.LCF)\n",
    "calculation[\"d_DB\"]"
   ]
  },
  {
   "cell_type": "code",
   "execution_count": 68,
   "metadata": {},
   "outputs": [
    {
     "data": {
      "text/plain": [
       "-0.07490673095243133"
      ]
     },
     "execution_count": 68,
     "metadata": {},
     "output_type": "execute_result"
    }
   ],
   "source": [
    "calculation[\"dt\"] = calculation.w_DB*calculation.d_DB/(meta_data.MTcm*100)\n",
    "calculation[\"dt\"]"
   ]
  },
  {
   "cell_type": "code",
   "execution_count": 70,
   "metadata": {},
   "outputs": [
    {
     "data": {
      "text/plain": [
       "0.03292022906754981"
      ]
     },
     "execution_count": 70,
     "metadata": {},
     "output_type": "execute_result"
    }
   ],
   "source": [
    "calculation['dT'] = calculation.w_DB/(meta_data.TPcm*100)\n",
    "calculation['dT']"
   ]
  },
  {
   "cell_type": "code",
   "execution_count": 73,
   "metadata": {},
   "outputs": [
    {
     "data": {
      "text/plain": [
       "0.825093269047569"
      ]
     },
     "execution_count": 73,
     "metadata": {},
     "output_type": "execute_result"
    }
   ],
   "source": [
    "calculation[\"t_initial\"] = meta_data[\"T_A\"] - meta_data['T_F'] \n",
    "calculation[\"t\"] = calculation.t_initial + calculation[\"dt\"]\n",
    "calculation[\"t\"]"
   ]
  },
  {
   "cell_type": "code",
   "execution_count": 74,
   "metadata": {},
   "outputs": [
    {
     "data": {
      "text/plain": [
       "7.525670259987318"
      ]
     },
     "execution_count": 74,
     "metadata": {},
     "output_type": "execute_result"
    }
   ],
   "source": [
    "calculation[\"T_LCF_initial\"] = meta_data['T_A'] - calculation.t_initial/meta_data.Lpp*(meta_data.Lpp/2+meta_data.LCF)\n",
    "calculation[\"T_LCF_initial\"]"
   ]
  },
  {
   "cell_type": "code",
   "execution_count": 75,
   "metadata": {},
   "outputs": [
    {
     "data": {
      "text/plain": [
       "0.9000000000000004"
      ]
     },
     "execution_count": 75,
     "metadata": {},
     "output_type": "execute_result"
    }
   ],
   "source": [
    "calculation.t_initial"
   ]
  },
  {
   "cell_type": "code",
   "execution_count": 76,
   "metadata": {},
   "outputs": [
    {
     "data": {
      "text/plain": [
       "74.35199999999999"
      ]
     },
     "execution_count": 76,
     "metadata": {},
     "output_type": "execute_result"
    }
   ],
   "source": [
    "calculation['LCF_AP'] = meta_data.Lpp/2+meta_data.LCF\n",
    "calculation['LCF_AP']"
   ]
  },
  {
   "cell_type": "code",
   "execution_count": 77,
   "metadata": {},
   "outputs": [
    {
     "data": {
      "text/plain": [
       "7.5609870973987015"
      ]
     },
     "execution_count": 77,
     "metadata": {},
     "output_type": "execute_result"
    }
   ],
   "source": [
    "meta_data.T_A-calculation.t/meta_data.Lpp*calculation.LCF_AP"
   ]
  },
  {
   "cell_type": "code",
   "execution_count": 78,
   "metadata": {},
   "outputs": [
    {
     "data": {
      "text/plain": [
       "7.364100277281873"
      ]
     },
     "execution_count": 78,
     "metadata": {},
     "output_type": "execute_result"
    }
   ],
   "source": [
    "meta_data.T_A-3/4*calculation['t']+calculation.dT"
   ]
  },
  {
   "cell_type": "code",
   "execution_count": 79,
   "metadata": {},
   "outputs": [
    {
     "data": {
      "text/plain": [
       "74.33099999999999"
      ]
     },
     "execution_count": 79,
     "metadata": {},
     "output_type": "execute_result"
    }
   ],
   "source": [
    "meta_data.Lpp/2-4.519"
   ]
  },
  {
   "cell_type": "code",
   "execution_count": null,
   "metadata": {},
   "outputs": [],
   "source": []
  }
 ],
 "metadata": {
  "kernelspec": {
   "display_name": "Python 3",
   "language": "python",
   "name": "python3"
  },
  "language_info": {
   "codemirror_mode": {
    "name": "ipython",
    "version": 3
   },
   "file_extension": ".py",
   "mimetype": "text/x-python",
   "name": "python",
   "nbconvert_exporter": "python",
   "pygments_lexer": "ipython3",
   "version": "3.10.13"
  }
 },
 "nbformat": 4,
 "nbformat_minor": 2
}
