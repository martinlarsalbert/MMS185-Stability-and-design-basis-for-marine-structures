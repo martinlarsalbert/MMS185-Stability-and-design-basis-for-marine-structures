{
 "cells": [
  {
   "cell_type": "markdown",
   "metadata": {},
   "source": [
    "# 4.1 Floating shoe box\n",
    "![](box.PNG)"
   ]
  },
  {
   "cell_type": "code",
   "execution_count": 1,
   "metadata": {},
   "outputs": [],
   "source": [
    "import pandas as pd\n",
    "from mms185 import simpson\n",
    "from mms185.sympy import lambdify,run\n",
    "import matplotlib.pyplot as plt\n",
    "import numpy as np\n",
    "from numpy import arctan,tan, sin, cos\n",
    "from sympy import symbols, Eq\n",
    "import sympy as sp\n",
    "import pandas as pd"
   ]
  },
  {
   "cell_type": "code",
   "execution_count": 2,
   "metadata": {},
   "outputs": [],
   "source": [
    "meta_data = {\n",
    "    'L':30,  # [m]\n",
    "    'B':9,   # [m]\n",
    "    'H':6,   # [m]\n",
    "    'T':2,   # Draft [m]\n",
    "    'KG':2,  # Vertical center of gravity [m]\n",
    "}\n",
    "calculation = {}"
   ]
  },
  {
   "cell_type": "markdown",
   "metadata": {},
   "source": [
    "### 1. Slope of the GZ curve at φ = 0◦ "
   ]
  },
  {
   "cell_type": "code",
   "execution_count": 3,
   "metadata": {},
   "outputs": [
    {
     "data": {
      "text/latex": [
       "$\\displaystyle GZ = GM_{0} \\phi$"
      ],
      "text/plain": [
       "Eq(GZ, GM_0*phi)"
      ]
     },
     "execution_count": 3,
     "metadata": {},
     "output_type": "execute_result"
    }
   ],
   "source": [
    "GZ,MS,GM_0,phi = symbols(\"GZ,MS,GM_0,phi\")\n",
    "eq_GZ_small = Eq(GZ,GM_0*phi)\n",
    "eq_GZ_small"
   ]
  },
  {
   "cell_type": "markdown",
   "metadata": {},
   "source": [
    "The slope of $GZ$ at small angles is $GM$."
   ]
  },
  {
   "cell_type": "code",
   "execution_count": 4,
   "metadata": {},
   "outputs": [
    {
     "data": {
      "text/latex": [
       "$\\displaystyle GM_{0} = BM_{0} + KB - KG$"
      ],
      "text/plain": [
       "Eq(GM_0, BM_0 + KB - KG)"
      ]
     },
     "execution_count": 4,
     "metadata": {},
     "output_type": "execute_result"
    }
   ],
   "source": [
    "BM_0,KG,KB,mass,I_T,L,B,rho,volume,T = symbols(r\"BM_0,KG,KB,Delta,I_T,L,B,rho,\\nabla,T\")\n",
    "eq_GM = Eq(GM_0,BM_0+KB-KG)\n",
    "eq_GM"
   ]
  },
  {
   "cell_type": "code",
   "execution_count": 5,
   "metadata": {},
   "outputs": [
    {
     "data": {
      "text/latex": [
       "$\\displaystyle BM_{0} = \\frac{I_{T} \\rho}{\\Delta}$"
      ],
      "text/plain": [
       "Eq(BM_0, I_T*rho/Delta)"
      ]
     },
     "execution_count": 5,
     "metadata": {},
     "output_type": "execute_result"
    }
   ],
   "source": [
    "eq_BM = Eq(BM_0,I_T*rho/mass)\n",
    "eq_BM"
   ]
  },
  {
   "cell_type": "code",
   "execution_count": 6,
   "metadata": {},
   "outputs": [
    {
     "data": {
      "text/latex": [
       "$\\displaystyle \\Delta = \\nabla \\rho$"
      ],
      "text/plain": [
       "Eq(Delta, \\nabla*rho)"
      ]
     },
     "execution_count": 6,
     "metadata": {},
     "output_type": "execute_result"
    }
   ],
   "source": [
    "eq_Delta = Eq(mass,volume*rho)\n",
    "eq_Delta"
   ]
  },
  {
   "cell_type": "code",
   "execution_count": 7,
   "metadata": {},
   "outputs": [
    {
     "data": {
      "text/latex": [
       "$\\displaystyle BM_{0} = \\frac{I_{T}}{\\nabla}$"
      ],
      "text/plain": [
       "Eq(BM_0, I_T/\\nabla)"
      ]
     },
     "execution_count": 7,
     "metadata": {},
     "output_type": "execute_result"
    }
   ],
   "source": [
    "eq_BM2 = eq_BM.subs(mass,eq_Delta.rhs)\n",
    "eq_BM2"
   ]
  },
  {
   "cell_type": "code",
   "execution_count": 8,
   "metadata": {},
   "outputs": [
    {
     "data": {
      "text/latex": [
       "$\\displaystyle I_{T} = \\frac{B^{3} L}{12}$"
      ],
      "text/plain": [
       "Eq(I_T, B**3*L/12)"
      ]
     },
     "execution_count": 8,
     "metadata": {},
     "output_type": "execute_result"
    }
   ],
   "source": [
    "eq_I_T = Eq(I_T,L*B**3/12)\n",
    "eq_I_T"
   ]
  },
  {
   "cell_type": "code",
   "execution_count": 9,
   "metadata": {},
   "outputs": [
    {
     "data": {
      "text/latex": [
       "$\\displaystyle \\nabla = B L T$"
      ],
      "text/plain": [
       "Eq(\\nabla, B*L*T)"
      ]
     },
     "execution_count": 9,
     "metadata": {},
     "output_type": "execute_result"
    }
   ],
   "source": [
    "eq_volume = Eq(volume, B*L*T)\n",
    "eq_volume"
   ]
  },
  {
   "cell_type": "code",
   "execution_count": 10,
   "metadata": {},
   "outputs": [],
   "source": [
    "calculation['volume'] = run(lambdify(eq_volume), meta_data)"
   ]
  },
  {
   "cell_type": "code",
   "execution_count": 11,
   "metadata": {},
   "outputs": [
    {
     "data": {
      "text/latex": [
       "$\\displaystyle BM_{0} = \\frac{B^{2}}{12 T}$"
      ],
      "text/plain": [
       "Eq(BM_0, B**2/(12*T))"
      ]
     },
     "execution_count": 11,
     "metadata": {},
     "output_type": "execute_result"
    }
   ],
   "source": [
    "eqs = [\n",
    "    eq_BM,\n",
    "    eq_I_T,\n",
    "    eq_Delta,\n",
    "    eq_volume,\n",
    "]\n",
    "eq_BM3 = Eq(BM_0,sp.solve(eqs, BM_0, I_T, mass, volume, dict=True)[0][BM_0])\n",
    "eq_BM3"
   ]
  },
  {
   "cell_type": "code",
   "execution_count": 12,
   "metadata": {},
   "outputs": [
    {
     "data": {
      "text/plain": [
       "3.375"
      ]
     },
     "execution_count": 12,
     "metadata": {},
     "output_type": "execute_result"
    }
   ],
   "source": [
    "calculation['BM_0'] = run(lambdify(eq_BM3), meta_data, **calculation)\n",
    "calculation['BM_0']"
   ]
  },
  {
   "cell_type": "code",
   "execution_count": 13,
   "metadata": {},
   "outputs": [
    {
     "data": {
      "text/latex": [
       "$\\displaystyle KB = \\frac{T}{2}$"
      ],
      "text/plain": [
       "Eq(KB, T/2)"
      ]
     },
     "execution_count": 13,
     "metadata": {},
     "output_type": "execute_result"
    }
   ],
   "source": [
    "eq_KB = Eq(KB,T/2)\n",
    "eq_KB"
   ]
  },
  {
   "cell_type": "code",
   "execution_count": 14,
   "metadata": {},
   "outputs": [
    {
     "data": {
      "text/latex": [
       "$\\displaystyle GM_{0} = \\frac{B^{2} - 12 KG T + 6 T^{2}}{12 T}$"
      ],
      "text/plain": [
       "Eq(GM_0, (B**2 - 12*KG*T + 6*T**2)/(12*T))"
      ]
     },
     "execution_count": 14,
     "metadata": {},
     "output_type": "execute_result"
    }
   ],
   "source": [
    "eqs = [\n",
    "    eq_GM,\n",
    "    eq_BM3,\n",
    "    eq_KB,    \n",
    "]\n",
    "eq_GM2 = Eq(GM_0, sp.solve(eqs, GM_0, BM_0, KB)[GM_0])\n",
    "eq_GM2"
   ]
  },
  {
   "cell_type": "code",
   "execution_count": 15,
   "metadata": {},
   "outputs": [
    {
     "data": {
      "text/plain": [
       "<function _lambdifygenerated(B, KG, T)>"
      ]
     },
     "execution_count": 15,
     "metadata": {},
     "output_type": "execute_result"
    }
   ],
   "source": [
    "expression = eq_GM2.rhs\n",
    "lambda_GM = sp.lambdify(list(expression.free_symbols),expression)\n",
    "lambda_GM"
   ]
  },
  {
   "cell_type": "code",
   "execution_count": 17,
   "metadata": {},
   "outputs": [],
   "source": [
    "calculation['GM_0'] = run(lambda_GM,meta_data)"
   ]
  },
  {
   "cell_type": "markdown",
   "metadata": {},
   "source": [
    "### 2. GZ when the bilge skims the surface\n",
    "![](skim.PNG)\n",
    "\n",
    "First find the distance $x$ which gives the same displacement."
   ]
  },
  {
   "cell_type": "code",
   "execution_count": 18,
   "metadata": {},
   "outputs": [],
   "source": [
    "x = symbols(\"x\")"
   ]
  },
  {
   "cell_type": "code",
   "execution_count": 19,
   "metadata": {},
   "outputs": [
    {
     "data": {
      "text/latex": [
       "$\\displaystyle \\nabla = \\frac{B L x}{2}$"
      ],
      "text/plain": [
       "Eq(\\nabla, B*L*x/2)"
      ]
     },
     "execution_count": 19,
     "metadata": {},
     "output_type": "execute_result"
    }
   ],
   "source": [
    "eq_V_phi = Eq(volume,B*L*x/2)\n",
    "eq_V_phi"
   ]
  },
  {
   "cell_type": "code",
   "execution_count": 20,
   "metadata": {},
   "outputs": [
    {
     "data": {
      "text/latex": [
       "$\\displaystyle x = B \\tan{\\left(\\phi \\right)}$"
      ],
      "text/plain": [
       "Eq(x, B*tan(phi))"
      ]
     },
     "execution_count": 20,
     "metadata": {},
     "output_type": "execute_result"
    }
   ],
   "source": [
    "eq_x = Eq(x,B*sp.tan(phi))\n",
    "eq_x"
   ]
  },
  {
   "cell_type": "code",
   "execution_count": 21,
   "metadata": {},
   "outputs": [
    {
     "data": {
      "text/latex": [
       "$\\displaystyle \\nabla = \\frac{B^{2} L \\tan{\\left(\\phi \\right)}}{2}$"
      ],
      "text/plain": [
       "Eq(\\nabla, B**2*L*tan(phi)/2)"
      ]
     },
     "execution_count": 21,
     "metadata": {},
     "output_type": "execute_result"
    }
   ],
   "source": [
    "eqs=[\n",
    "    eq_V_phi,\n",
    "    eq_x\n",
    "]\n",
    "eq_V_phi2 = Eq(volume,sp.solve(eqs, volume,x)[volume])\n",
    "eq_V_phi2"
   ]
  },
  {
   "cell_type": "code",
   "execution_count": 22,
   "metadata": {},
   "outputs": [
    {
     "data": {
      "text/latex": [
       "$\\displaystyle \\phi = \\operatorname{atan}{\\left(\\frac{2 T}{B} \\right)}$"
      ],
      "text/plain": [
       "Eq(phi, atan(2*T/B))"
      ]
     },
     "execution_count": 22,
     "metadata": {},
     "output_type": "execute_result"
    }
   ],
   "source": [
    "eqs = [\n",
    "    eq_V_phi2,\n",
    "    eq_volume,\n",
    "]\n",
    "eq_phi = Eq(phi, sp.solve(eqs,phi,volume, dict=True)[0][phi])\n",
    "eq_phi"
   ]
  },
  {
   "cell_type": "code",
   "execution_count": 23,
   "metadata": {},
   "outputs": [
    {
     "data": {
      "text/plain": [
       "<function _lambdifygenerated(B, T)>"
      ]
     },
     "execution_count": 23,
     "metadata": {},
     "output_type": "execute_result"
    }
   ],
   "source": [
    "expression = eq_phi.rhs\n",
    "lambda_phi = sp.lambdify(list(expression.free_symbols),expression)\n",
    "lambda_phi"
   ]
  },
  {
   "cell_type": "code",
   "execution_count": 27,
   "metadata": {},
   "outputs": [
    {
     "data": {
      "text/plain": [
       "23.962488974578182"
      ]
     },
     "execution_count": 27,
     "metadata": {},
     "output_type": "execute_result"
    }
   ],
   "source": [
    "calculation['phi'] = lambda_phi(B=meta_data['B'], T=meta_data['T'])\n",
    "np.rad2deg(calculation['phi'])"
   ]
  },
  {
   "cell_type": "markdown",
   "metadata": {},
   "source": [
    "## Scribantis formula"
   ]
  },
  {
   "cell_type": "code",
   "execution_count": 28,
   "metadata": {},
   "outputs": [
    {
     "data": {
      "text/latex": [
       "$\\displaystyle GZ = \\left(\\frac{BM_{0} \\tan^{2}{\\left(\\phi \\right)}}{2} + GM_{0}\\right) \\sin{\\left(\\phi \\right)}$"
      ],
      "text/plain": [
       "Eq(GZ, (BM_0*tan(phi)**2/2 + GM_0)*sin(phi))"
      ]
     },
     "execution_count": 28,
     "metadata": {},
     "output_type": "execute_result"
    }
   ],
   "source": [
    "eq_scribanti = Eq(GZ,(GM_0+sp.Rational(1,2)*BM_0*sp.tan(phi)**2)*sp.sin(phi))\n",
    "eq_scribanti"
   ]
  },
  {
   "cell_type": "code",
   "execution_count": 30,
   "metadata": {},
   "outputs": [],
   "source": [
    "calculation['GZ'] = run(lambdify(eq_scribanti),meta_data, **calculation)"
   ]
  },
  {
   "cell_type": "code",
   "execution_count": 31,
   "metadata": {},
   "outputs": [
    {
     "data": {
      "text/plain": [
       "{'volume': 540,\n",
       " 'BM_0': 3.375,\n",
       " 'GM_0': 2.375,\n",
       " 'phi': 0.41822432957922906,\n",
       " 'GZ': 1.0999583455614206}"
      ]
     },
     "execution_count": 31,
     "metadata": {},
     "output_type": "execute_result"
    }
   ],
   "source": [
    "calculation"
   ]
  },
  {
   "cell_type": "markdown",
   "metadata": {},
   "source": [
    "### 3. GZ for φ = 90◦ (including the slope of the GZ curve at this point) "
   ]
  },
  {
   "cell_type": "code",
   "execution_count": 32,
   "metadata": {},
   "outputs": [
    {
     "data": {
      "text/plain": [
       "{'L': 30, 'B': 6, 'KG': 4.5, 'T': 3.0}"
      ]
     },
     "execution_count": 32,
     "metadata": {},
     "output_type": "execute_result"
    }
   ],
   "source": [
    "meta_data2 = {\n",
    "    'L':meta_data['L'],\n",
    "    'B':meta_data['H'],\n",
    "    'KG':meta_data['B']/2,\n",
    "}\n",
    "meta_data2['T'] = calculation['volume']/(meta_data2['L']*meta_data2['B']) \n",
    "meta_data2   "
   ]
  },
  {
   "cell_type": "code",
   "execution_count": 33,
   "metadata": {},
   "outputs": [],
   "source": [
    "calculation2 = {}\n",
    "calculation2['GM_0'] = run(lambda_GM, meta_data2, **calculation)"
   ]
  },
  {
   "cell_type": "code",
   "execution_count": 71,
   "metadata": {},
   "outputs": [
    {
     "data": {
      "text/plain": [
       "{'GM_0': -2.0}"
      ]
     },
     "execution_count": 71,
     "metadata": {},
     "output_type": "execute_result"
    }
   ],
   "source": [
    "calculation2"
   ]
  },
  {
   "cell_type": "code",
   "execution_count": 64,
   "metadata": {},
   "outputs": [],
   "source": [
    "phis = np.linspace(0,calculation['phi'],100)\n",
    "df = pd.DataFrame()\n",
    "df['phi']=phis\n",
    "df['phi_deg']=np.rad2deg(df['phi'])\n",
    "df.set_index('phi_deg', inplace=True)\n",
    "lambda_scibanti = lambdify(eq_scribanti)\n",
    "df['GZ'] = run(lambda_scibanti,BM_0=calculation['BM_0'], GM_0=calculation['GM_0'], phi=phis)"
   ]
  },
  {
   "cell_type": "code",
   "execution_count": 69,
   "metadata": {},
   "outputs": [],
   "source": [
    "df['GM_0*phi'] = run(lambdify(eq_GZ_small), GM_0=calculation['GM_0'], phi=phis)"
   ]
  },
  {
   "cell_type": "code",
   "execution_count": 73,
   "metadata": {},
   "outputs": [
    {
     "data": {
      "text/plain": [
       "Text(0.5, 0, 'Heel angle $\\\\phi$ $[deg]$')"
      ]
     },
     "execution_count": 73,
     "metadata": {},
     "output_type": "execute_result"
    },
    {
     "data": {
      "image/png": "[encoded data removed]",
      "text/plain": [
       "<Figure size 640x480 with 1 Axes>"
      ]
     },
     "metadata": {},
     "output_type": "display_data"
    }
   ],
   "source": [
    "fig,ax=plt.subplots()\n",
    "df.plot(y=['GZ','GM_0*phi'],ax=ax)\n",
    "ax.set_ylabel('GZ [m]')\n",
    "ax.set_xlabel(r'Heel angle $\\phi$ $[deg]$')"
   ]
  }
 ],
 "metadata": {
  "kernelspec": {
   "display_name": "Python 3",
   "language": "python",
   "name": "python3"
  },
  "language_info": {
   "codemirror_mode": {
    "name": "ipython",
    "version": 3
   },
   "file_extension": ".py",
   "mimetype": "text/x-python",
   "name": "python",
   "nbconvert_exporter": "python",
   "pygments_lexer": "ipython3",
   "version": "3.10.13"
  }
 },
 "nbformat": 4,
 "nbformat_minor": 2
}
