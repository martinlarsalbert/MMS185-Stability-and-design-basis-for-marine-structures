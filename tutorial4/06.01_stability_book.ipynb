{
 "cells": [
  {
   "cell_type": "markdown",
   "metadata": {},
   "source": [
    "# 6.1 Stability book"
   ]
  },
  {
   "cell_type": "code",
   "execution_count": 23,
   "metadata": {
    "jupyter": {
     "source_hidden": true
    },
    "tags": []
   },
   "outputs": [],
   "source": [
    "import pandas as pd\n",
    "from mms185 import simpson\n",
    "import matplotlib.pyplot as plt\n",
    "plt.rcParams[\"figure.figsize\"] = (15,8)\n",
    "import numpy as np\n",
    "from numpy import arctan,tan, sin, cos\n",
    "from sympy import symbols, Eq\n",
    "import sympy as sp\n",
    "import pandas as pd\n",
    "from scipy.integrate import simpson, cumulative_trapezoid"
   ]
  },
  {
   "cell_type": "code",
   "execution_count": 2,
   "metadata": {
    "jupyter": {
     "source_hidden": true
    },
    "tags": []
   },
   "outputs": [],
   "source": [
    "GZ,MS,GM,phi = symbols(\"GZ,MS,GM,phi\")"
   ]
  },
  {
   "cell_type": "markdown",
   "metadata": {},
   "source": [
    "### 1. The GZ-curve for 0 to 75 deg of heel."
   ]
  },
  {
   "cell_type": "markdown",
   "metadata": {},
   "source": [
    "Residual resistance $MS$ curve,"
   ]
  },
  {
   "cell_type": "code",
   "execution_count": 3,
   "metadata": {
    "jupyter": {
     "source_hidden": true
    },
    "tags": []
   },
   "outputs": [
    {
     "data": {
      "text/latex": [
       "$\\displaystyle GZ = GM \\sin{\\left(\\phi \\right)} + MS$"
      ],
      "text/plain": [
       "Eq(GZ, GM*sin(phi) + MS)"
      ]
     },
     "execution_count": 3,
     "metadata": {},
     "output_type": "execute_result"
    }
   ],
   "source": [
    "eq_MS = Eq(GZ,MS+GM*sp.sin(phi))\n",
    "eq_MS"
   ]
  },
  {
   "cell_type": "code",
   "execution_count": 4,
   "metadata": {
    "jupyter": {
     "source_hidden": true
    },
    "tags": []
   },
   "outputs": [],
   "source": [
    "lambda_MS = sp.lambdify(list(eq_MS.rhs.free_symbols),eq_MS.rhs)"
   ]
  },
  {
   "cell_type": "code",
   "execution_count": 5,
   "metadata": {
    "jupyter": {
     "source_hidden": true
    }
   },
   "outputs": [],
   "source": [
    "df_winter_moon = pd.read_csv(\"MS_Winter_Moon.csv\")\n",
    "df_winter_moon['phi [deg]'] = np.round(np.rad2deg(df_winter_moon['phi']),0)\n",
    "df_winter_moon.set_index('phi [deg]', inplace=True)"
   ]
  },
  {
   "cell_type": "code",
   "execution_count": 6,
   "metadata": {
    "jupyter": {
     "source_hidden": true
    },
    "tags": []
   },
   "outputs": [
    {
     "data": {
      "text/html": [
       "<div>\n",
       "<style scoped>\n",
       "    .dataframe tbody tr th:only-of-type {\n",
       "        vertical-align: middle;\n",
       "    }\n",
       "\n",
       "    .dataframe tbody tr th {\n",
       "        vertical-align: top;\n",
       "    }\n",
       "\n",
       "    .dataframe thead th {\n",
       "        text-align: right;\n",
       "    }\n",
       "</style>\n",
       "<table border=\"1\" class=\"dataframe\">\n",
       "  <thead>\n",
       "    <tr style=\"text-align: right;\">\n",
       "      <th></th>\n",
       "      <th>phi</th>\n",
       "      <th>MS</th>\n",
       "    </tr>\n",
       "    <tr>\n",
       "      <th>phi [deg]</th>\n",
       "      <th></th>\n",
       "      <th></th>\n",
       "    </tr>\n",
       "  </thead>\n",
       "  <tbody>\n",
       "    <tr>\n",
       "      <th>0.0</th>\n",
       "      <td>0.000</td>\n",
       "      <td>0.0000</td>\n",
       "    </tr>\n",
       "    <tr>\n",
       "      <th>6.0</th>\n",
       "      <td>0.105</td>\n",
       "      <td>0.0040</td>\n",
       "    </tr>\n",
       "    <tr>\n",
       "      <th>12.0</th>\n",
       "      <td>0.209</td>\n",
       "      <td>0.0280</td>\n",
       "    </tr>\n",
       "    <tr>\n",
       "      <th>20.0</th>\n",
       "      <td>0.349</td>\n",
       "      <td>0.1400</td>\n",
       "    </tr>\n",
       "    <tr>\n",
       "      <th>25.0</th>\n",
       "      <td>0.436</td>\n",
       "      <td>0.2725</td>\n",
       "    </tr>\n",
       "    <tr>\n",
       "      <th>30.0</th>\n",
       "      <td>0.524</td>\n",
       "      <td>0.4050</td>\n",
       "    </tr>\n",
       "    <tr>\n",
       "      <th>40.0</th>\n",
       "      <td>0.698</td>\n",
       "      <td>0.5680</td>\n",
       "    </tr>\n",
       "    <tr>\n",
       "      <th>50.0</th>\n",
       "      <td>0.873</td>\n",
       "      <td>0.4380</td>\n",
       "    </tr>\n",
       "    <tr>\n",
       "      <th>75.0</th>\n",
       "      <td>1.309</td>\n",
       "      <td>-0.4200</td>\n",
       "    </tr>\n",
       "  </tbody>\n",
       "</table>\n",
       "</div>"
      ],
      "text/plain": [
       "             phi      MS\n",
       "phi [deg]               \n",
       "0.0        0.000  0.0000\n",
       "6.0        0.105  0.0040\n",
       "12.0       0.209  0.0280\n",
       "20.0       0.349  0.1400\n",
       "25.0       0.436  0.2725\n",
       "30.0       0.524  0.4050\n",
       "40.0       0.698  0.5680\n",
       "50.0       0.873  0.4380\n",
       "75.0       1.309 -0.4200"
      ]
     },
     "execution_count": 6,
     "metadata": {},
     "output_type": "execute_result"
    }
   ],
   "source": [
    "df_winter_moon"
   ]
  },
  {
   "cell_type": "code",
   "execution_count": 7,
   "metadata": {
    "jupyter": {
     "source_hidden": true
    }
   },
   "outputs": [],
   "source": [
    "meta_data = {\n",
    "    \"GM\" : 0.2,      # Meta center [m]\n",
    "    \"Delta\": 22723,  # Displacement [t]\n",
    "}"
   ]
  },
  {
   "cell_type": "code",
   "execution_count": 8,
   "metadata": {
    "jupyter": {
     "source_hidden": true
    }
   },
   "outputs": [],
   "source": [
    "df_winter_moon[\"GZ\"] = lambda_MS(GM=meta_data[\"GM\"], MS=df_winter_moon[\"MS\"], phi=df_winter_moon[\"phi\"])"
   ]
  },
  {
   "cell_type": "code",
   "execution_count": 24,
   "metadata": {
    "jupyter": {
     "source_hidden": true
    },
    "tags": []
   },
   "outputs": [
    {
     "data": {
      "text/plain": [
       "Text(0, 0.5, 'Lever [m]')"
      ]
     },
     "execution_count": 24,
     "metadata": {},
     "output_type": "execute_result"
    },
    {
     "data": {
      "image/png": "[encoded data removed]",
      "text/plain": [
       "<Figure size 1500x800 with 1 Axes>"
      ]
     },
     "metadata": {},
     "output_type": "display_data"
    }
   ],
   "source": [
    "fig,ax=plt.subplots()\n",
    "df_winter_moon.plot(x=\"phi\", y=\"GZ\", ax=ax)\n",
    "ax.grid(True)\n",
    "ax.set_ylabel(\"Lever [m]\")"
   ]
  },
  {
   "cell_type": "markdown",
   "metadata": {},
   "source": [
    "### 2. The curve of righting moment for 0 to 75 deg of heel."
   ]
  },
  {
   "cell_type": "code",
   "execution_count": 10,
   "metadata": {
    "jupyter": {
     "source_hidden": true
    }
   },
   "outputs": [
    {
     "data": {
      "text/latex": [
       "$\\displaystyle M = GZ \\Delta$"
      ],
      "text/plain": [
       "Eq(M, GZ*\\Delta)"
      ]
     },
     "execution_count": 10,
     "metadata": {},
     "output_type": "execute_result"
    }
   ],
   "source": [
    "M,mass = symbols(r\"M,\\Delta\")\n",
    "eq_M = Eq(M,GZ*mass)\n",
    "eq_M"
   ]
  },
  {
   "cell_type": "code",
   "execution_count": 11,
   "metadata": {
    "jupyter": {
     "source_hidden": true
    },
    "tags": []
   },
   "outputs": [],
   "source": [
    "expression = eq_M.rhs.subs(mass,\"Delta\")\n",
    "lambda_M = sp.lambdify(list(expression.free_symbols),expression)"
   ]
  },
  {
   "cell_type": "code",
   "execution_count": 12,
   "metadata": {
    "jupyter": {
     "source_hidden": true
    }
   },
   "outputs": [],
   "source": [
    "df_winter_moon[\"M\"] = lambda_M(Delta=meta_data[\"Delta\"], GZ=df_winter_moon[\"GZ\"])"
   ]
  },
  {
   "cell_type": "code",
   "execution_count": 13,
   "metadata": {
    "jupyter": {
     "source_hidden": true
    }
   },
   "outputs": [
    {
     "data": {
      "text/html": [
       "<div>\n",
       "<style scoped>\n",
       "    .dataframe tbody tr th:only-of-type {\n",
       "        vertical-align: middle;\n",
       "    }\n",
       "\n",
       "    .dataframe tbody tr th {\n",
       "        vertical-align: top;\n",
       "    }\n",
       "\n",
       "    .dataframe thead th {\n",
       "        text-align: right;\n",
       "    }\n",
       "</style>\n",
       "<table border=\"1\" class=\"dataframe\">\n",
       "  <thead>\n",
       "    <tr style=\"text-align: right;\">\n",
       "      <th></th>\n",
       "      <th>phi</th>\n",
       "      <th>MS</th>\n",
       "      <th>GZ</th>\n",
       "      <th>M</th>\n",
       "    </tr>\n",
       "    <tr>\n",
       "      <th>phi [deg]</th>\n",
       "      <th></th>\n",
       "      <th></th>\n",
       "      <th></th>\n",
       "      <th></th>\n",
       "    </tr>\n",
       "  </thead>\n",
       "  <tbody>\n",
       "    <tr>\n",
       "      <th>0.0</th>\n",
       "      <td>0.000</td>\n",
       "      <td>0.0000</td>\n",
       "      <td>0.000000</td>\n",
       "      <td>0.000000</td>\n",
       "    </tr>\n",
       "    <tr>\n",
       "      <th>6.0</th>\n",
       "      <td>0.105</td>\n",
       "      <td>0.0040</td>\n",
       "      <td>0.024961</td>\n",
       "      <td>567.198659</td>\n",
       "    </tr>\n",
       "    <tr>\n",
       "      <th>12.0</th>\n",
       "      <td>0.209</td>\n",
       "      <td>0.0280</td>\n",
       "      <td>0.069496</td>\n",
       "      <td>1579.165629</td>\n",
       "    </tr>\n",
       "    <tr>\n",
       "      <th>20.0</th>\n",
       "      <td>0.349</td>\n",
       "      <td>0.1400</td>\n",
       "      <td>0.208392</td>\n",
       "      <td>4735.283524</td>\n",
       "    </tr>\n",
       "    <tr>\n",
       "      <th>25.0</th>\n",
       "      <td>0.436</td>\n",
       "      <td>0.2725</td>\n",
       "      <td>0.356963</td>\n",
       "      <td>8111.279613</td>\n",
       "    </tr>\n",
       "    <tr>\n",
       "      <th>30.0</th>\n",
       "      <td>0.524</td>\n",
       "      <td>0.4050</td>\n",
       "      <td>0.505069</td>\n",
       "      <td>11476.693932</td>\n",
       "    </tr>\n",
       "    <tr>\n",
       "      <th>40.0</th>\n",
       "      <td>0.698</td>\n",
       "      <td>0.5680</td>\n",
       "      <td>0.696537</td>\n",
       "      <td>15827.418047</td>\n",
       "    </tr>\n",
       "    <tr>\n",
       "      <th>50.0</th>\n",
       "      <td>0.873</td>\n",
       "      <td>0.4380</td>\n",
       "      <td>0.591252</td>\n",
       "      <td>13435.019079</td>\n",
       "    </tr>\n",
       "    <tr>\n",
       "      <th>75.0</th>\n",
       "      <td>1.309</td>\n",
       "      <td>-0.4200</td>\n",
       "      <td>-0.226815</td>\n",
       "      <td>-5153.909889</td>\n",
       "    </tr>\n",
       "  </tbody>\n",
       "</table>\n",
       "</div>"
      ],
      "text/plain": [
       "             phi      MS        GZ             M\n",
       "phi [deg]                                       \n",
       "0.0        0.000  0.0000  0.000000      0.000000\n",
       "6.0        0.105  0.0040  0.024961    567.198659\n",
       "12.0       0.209  0.0280  0.069496   1579.165629\n",
       "20.0       0.349  0.1400  0.208392   4735.283524\n",
       "25.0       0.436  0.2725  0.356963   8111.279613\n",
       "30.0       0.524  0.4050  0.505069  11476.693932\n",
       "40.0       0.698  0.5680  0.696537  15827.418047\n",
       "50.0       0.873  0.4380  0.591252  13435.019079\n",
       "75.0       1.309 -0.4200 -0.226815  -5153.909889"
      ]
     },
     "execution_count": 13,
     "metadata": {},
     "output_type": "execute_result"
    }
   ],
   "source": [
    "df_winter_moon"
   ]
  },
  {
   "cell_type": "markdown",
   "metadata": {},
   "source": [
    "### 3. The curve of dynamic lever for 0 to 75 deg of heel.\n",
    "The dynamic lever $e$ is expressed as the area under the $GZ$ curve:"
   ]
  },
  {
   "cell_type": "code",
   "execution_count": 14,
   "metadata": {
    "jupyter": {
     "source_hidden": true
    },
    "tags": []
   },
   "outputs": [
    {
     "data": {
      "text/latex": [
       "$\\displaystyle e = \\int\\limits_{0}^{\\phi} GZ\\, d\\phi$"
      ],
      "text/plain": [
       "Eq(e, Integral(GZ, (phi, 0, phi)))"
      ]
     },
     "execution_count": 14,
     "metadata": {},
     "output_type": "execute_result"
    }
   ],
   "source": [
    "\n",
    "e = symbols(\"e\")\n",
    "eq_e = Eq(e, sp.Integral(GZ,(phi,0,phi)))\n",
    "eq_e"
   ]
  },
  {
   "cell_type": "code",
   "execution_count": 15,
   "metadata": {
    "jupyter": {
     "source_hidden": true
    }
   },
   "outputs": [],
   "source": [
    "df_winter_moon['e'] = np.concatenate(([0],cumulative_trapezoid(y=df_winter_moon['GZ'],x=df_winter_moon['phi'])))"
   ]
  },
  {
   "cell_type": "code",
   "execution_count": 16,
   "metadata": {
    "jupyter": {
     "source_hidden": true
    }
   },
   "outputs": [
    {
     "data": {
      "text/html": [
       "<div>\n",
       "<style scoped>\n",
       "    .dataframe tbody tr th:only-of-type {\n",
       "        vertical-align: middle;\n",
       "    }\n",
       "\n",
       "    .dataframe tbody tr th {\n",
       "        vertical-align: top;\n",
       "    }\n",
       "\n",
       "    .dataframe thead th {\n",
       "        text-align: right;\n",
       "    }\n",
       "</style>\n",
       "<table border=\"1\" class=\"dataframe\">\n",
       "  <thead>\n",
       "    <tr style=\"text-align: right;\">\n",
       "      <th></th>\n",
       "      <th>phi</th>\n",
       "      <th>MS</th>\n",
       "      <th>GZ</th>\n",
       "      <th>M</th>\n",
       "      <th>e</th>\n",
       "    </tr>\n",
       "    <tr>\n",
       "      <th>phi [deg]</th>\n",
       "      <th></th>\n",
       "      <th></th>\n",
       "      <th></th>\n",
       "      <th></th>\n",
       "      <th></th>\n",
       "    </tr>\n",
       "  </thead>\n",
       "  <tbody>\n",
       "    <tr>\n",
       "      <th>0.0</th>\n",
       "      <td>0.000</td>\n",
       "      <td>0.0000</td>\n",
       "      <td>0.000000</td>\n",
       "      <td>0.000000</td>\n",
       "      <td>0.000000</td>\n",
       "    </tr>\n",
       "    <tr>\n",
       "      <th>6.0</th>\n",
       "      <td>0.105</td>\n",
       "      <td>0.0040</td>\n",
       "      <td>0.024961</td>\n",
       "      <td>567.198659</td>\n",
       "      <td>0.001310</td>\n",
       "    </tr>\n",
       "    <tr>\n",
       "      <th>12.0</th>\n",
       "      <td>0.209</td>\n",
       "      <td>0.0280</td>\n",
       "      <td>0.069496</td>\n",
       "      <td>1579.165629</td>\n",
       "      <td>0.006222</td>\n",
       "    </tr>\n",
       "    <tr>\n",
       "      <th>20.0</th>\n",
       "      <td>0.349</td>\n",
       "      <td>0.1400</td>\n",
       "      <td>0.208392</td>\n",
       "      <td>4735.283524</td>\n",
       "      <td>0.025674</td>\n",
       "    </tr>\n",
       "    <tr>\n",
       "      <th>25.0</th>\n",
       "      <td>0.436</td>\n",
       "      <td>0.2725</td>\n",
       "      <td>0.356963</td>\n",
       "      <td>8111.279613</td>\n",
       "      <td>0.050267</td>\n",
       "    </tr>\n",
       "    <tr>\n",
       "      <th>30.0</th>\n",
       "      <td>0.524</td>\n",
       "      <td>0.4050</td>\n",
       "      <td>0.505069</td>\n",
       "      <td>11476.693932</td>\n",
       "      <td>0.088197</td>\n",
       "    </tr>\n",
       "    <tr>\n",
       "      <th>40.0</th>\n",
       "      <td>0.698</td>\n",
       "      <td>0.5680</td>\n",
       "      <td>0.696537</td>\n",
       "      <td>15827.418047</td>\n",
       "      <td>0.192737</td>\n",
       "    </tr>\n",
       "    <tr>\n",
       "      <th>50.0</th>\n",
       "      <td>0.873</td>\n",
       "      <td>0.4380</td>\n",
       "      <td>0.591252</td>\n",
       "      <td>13435.019079</td>\n",
       "      <td>0.305418</td>\n",
       "    </tr>\n",
       "    <tr>\n",
       "      <th>75.0</th>\n",
       "      <td>1.309</td>\n",
       "      <td>-0.4200</td>\n",
       "      <td>-0.226815</td>\n",
       "      <td>-5153.909889</td>\n",
       "      <td>0.384866</td>\n",
       "    </tr>\n",
       "  </tbody>\n",
       "</table>\n",
       "</div>"
      ],
      "text/plain": [
       "             phi      MS        GZ             M         e\n",
       "phi [deg]                                                 \n",
       "0.0        0.000  0.0000  0.000000      0.000000  0.000000\n",
       "6.0        0.105  0.0040  0.024961    567.198659  0.001310\n",
       "12.0       0.209  0.0280  0.069496   1579.165629  0.006222\n",
       "20.0       0.349  0.1400  0.208392   4735.283524  0.025674\n",
       "25.0       0.436  0.2725  0.356963   8111.279613  0.050267\n",
       "30.0       0.524  0.4050  0.505069  11476.693932  0.088197\n",
       "40.0       0.698  0.5680  0.696537  15827.418047  0.192737\n",
       "50.0       0.873  0.4380  0.591252  13435.019079  0.305418\n",
       "75.0       1.309 -0.4200 -0.226815  -5153.909889  0.384866"
      ]
     },
     "execution_count": 16,
     "metadata": {},
     "output_type": "execute_result"
    }
   ],
   "source": [
    "df_winter_moon"
   ]
  },
  {
   "cell_type": "markdown",
   "metadata": {},
   "source": [
    "### The work required to heel the ship over to 25 deg. "
   ]
  },
  {
   "cell_type": "code",
   "execution_count": 17,
   "metadata": {
    "tags": []
   },
   "outputs": [
    {
     "data": {
      "text/latex": [
       "$\\displaystyle W = \\Delta e$"
      ],
      "text/plain": [
       "Eq(W, \\Delta*e)"
      ]
     },
     "execution_count": 17,
     "metadata": {},
     "output_type": "execute_result"
    }
   ],
   "source": [
    "W = symbols(\"W\")\n",
    "eq_W = Eq(W,mass*e)\n",
    "eq_W"
   ]
  },
  {
   "cell_type": "code",
   "execution_count": 18,
   "metadata": {
    "jupyter": {
     "source_hidden": true
    }
   },
   "outputs": [],
   "source": [
    "df_winter_moon['W'] = meta_data['Delta']*df_winter_moon['e']"
   ]
  },
  {
   "cell_type": "code",
   "execution_count": 19,
   "metadata": {
    "jupyter": {
     "source_hidden": true
    }
   },
   "outputs": [
    {
     "data": {
      "text/html": [
       "<div>\n",
       "<style scoped>\n",
       "    .dataframe tbody tr th:only-of-type {\n",
       "        vertical-align: middle;\n",
       "    }\n",
       "\n",
       "    .dataframe tbody tr th {\n",
       "        vertical-align: top;\n",
       "    }\n",
       "\n",
       "    .dataframe thead th {\n",
       "        text-align: right;\n",
       "    }\n",
       "</style>\n",
       "<table border=\"1\" class=\"dataframe\">\n",
       "  <thead>\n",
       "    <tr style=\"text-align: right;\">\n",
       "      <th></th>\n",
       "      <th>phi</th>\n",
       "      <th>MS</th>\n",
       "      <th>GZ</th>\n",
       "      <th>M</th>\n",
       "      <th>e</th>\n",
       "      <th>W</th>\n",
       "    </tr>\n",
       "    <tr>\n",
       "      <th>phi [deg]</th>\n",
       "      <th></th>\n",
       "      <th></th>\n",
       "      <th></th>\n",
       "      <th></th>\n",
       "      <th></th>\n",
       "      <th></th>\n",
       "    </tr>\n",
       "  </thead>\n",
       "  <tbody>\n",
       "    <tr>\n",
       "      <th>0.0</th>\n",
       "      <td>0.000</td>\n",
       "      <td>0.0000</td>\n",
       "      <td>0.000000</td>\n",
       "      <td>0.000000</td>\n",
       "      <td>0.000000</td>\n",
       "      <td>0.000000</td>\n",
       "    </tr>\n",
       "    <tr>\n",
       "      <th>6.0</th>\n",
       "      <td>0.105</td>\n",
       "      <td>0.0040</td>\n",
       "      <td>0.024961</td>\n",
       "      <td>567.198659</td>\n",
       "      <td>0.001310</td>\n",
       "      <td>29.777930</td>\n",
       "    </tr>\n",
       "    <tr>\n",
       "      <th>12.0</th>\n",
       "      <td>0.209</td>\n",
       "      <td>0.0280</td>\n",
       "      <td>0.069496</td>\n",
       "      <td>1579.165629</td>\n",
       "      <td>0.006222</td>\n",
       "      <td>141.388873</td>\n",
       "    </tr>\n",
       "    <tr>\n",
       "      <th>20.0</th>\n",
       "      <td>0.349</td>\n",
       "      <td>0.1400</td>\n",
       "      <td>0.208392</td>\n",
       "      <td>4735.283524</td>\n",
       "      <td>0.025674</td>\n",
       "      <td>583.400313</td>\n",
       "    </tr>\n",
       "    <tr>\n",
       "      <th>25.0</th>\n",
       "      <td>0.436</td>\n",
       "      <td>0.2725</td>\n",
       "      <td>0.356963</td>\n",
       "      <td>8111.279613</td>\n",
       "      <td>0.050267</td>\n",
       "      <td>1142.225810</td>\n",
       "    </tr>\n",
       "    <tr>\n",
       "      <th>30.0</th>\n",
       "      <td>0.524</td>\n",
       "      <td>0.4050</td>\n",
       "      <td>0.505069</td>\n",
       "      <td>11476.693932</td>\n",
       "      <td>0.088197</td>\n",
       "      <td>2004.096646</td>\n",
       "    </tr>\n",
       "    <tr>\n",
       "      <th>40.0</th>\n",
       "      <td>0.698</td>\n",
       "      <td>0.5680</td>\n",
       "      <td>0.696537</td>\n",
       "      <td>15827.418047</td>\n",
       "      <td>0.192737</td>\n",
       "      <td>4379.554388</td>\n",
       "    </tr>\n",
       "    <tr>\n",
       "      <th>50.0</th>\n",
       "      <td>0.873</td>\n",
       "      <td>0.4380</td>\n",
       "      <td>0.591252</td>\n",
       "      <td>13435.019079</td>\n",
       "      <td>0.305418</td>\n",
       "      <td>6940.017636</td>\n",
       "    </tr>\n",
       "    <tr>\n",
       "      <th>75.0</th>\n",
       "      <td>1.309</td>\n",
       "      <td>-0.4200</td>\n",
       "      <td>-0.226815</td>\n",
       "      <td>-5153.909889</td>\n",
       "      <td>0.384866</td>\n",
       "      <td>8745.299440</td>\n",
       "    </tr>\n",
       "  </tbody>\n",
       "</table>\n",
       "</div>"
      ],
      "text/plain": [
       "             phi      MS        GZ             M         e            W\n",
       "phi [deg]                                                              \n",
       "0.0        0.000  0.0000  0.000000      0.000000  0.000000     0.000000\n",
       "6.0        0.105  0.0040  0.024961    567.198659  0.001310    29.777930\n",
       "12.0       0.209  0.0280  0.069496   1579.165629  0.006222   141.388873\n",
       "20.0       0.349  0.1400  0.208392   4735.283524  0.025674   583.400313\n",
       "25.0       0.436  0.2725  0.356963   8111.279613  0.050267  1142.225810\n",
       "30.0       0.524  0.4050  0.505069  11476.693932  0.088197  2004.096646\n",
       "40.0       0.698  0.5680  0.696537  15827.418047  0.192737  4379.554388\n",
       "50.0       0.873  0.4380  0.591252  13435.019079  0.305418  6940.017636\n",
       "75.0       1.309 -0.4200 -0.226815  -5153.909889  0.384866  8745.299440"
      ]
     },
     "execution_count": 19,
     "metadata": {},
     "output_type": "execute_result"
    }
   ],
   "source": [
    "df_winter_moon"
   ]
  },
  {
   "cell_type": "code",
   "execution_count": 20,
   "metadata": {
    "jupyter": {
     "source_hidden": true
    },
    "tags": []
   },
   "outputs": [
    {
     "data": {
      "text/plain": [
       "0.2725"
      ]
     },
     "execution_count": 20,
     "metadata": {},
     "output_type": "execute_result"
    }
   ],
   "source": [
    "(df_winter_moon.loc[30]['MS'] - df_winter_moon.loc[20]['MS'])/10*5 + df_winter_moon.loc[20]['MS']"
   ]
  },
  {
   "cell_type": "code",
   "execution_count": null,
   "metadata": {},
   "outputs": [],
   "source": []
  }
 ],
 "metadata": {
  "kernelspec": {
   "display_name": "Python 3 (ipykernel)",
   "language": "python",
   "name": "python3"
  },
  "language_info": {
   "codemirror_mode": {
    "name": "ipython",
    "version": 3
   },
   "file_extension": ".py",
   "mimetype": "text/x-python",
   "name": "python",
   "nbconvert_exporter": "python",
   "pygments_lexer": "ipython3",
   "version": "3.10.13"
  }
 },
 "nbformat": 4,
 "nbformat_minor": 4
}
