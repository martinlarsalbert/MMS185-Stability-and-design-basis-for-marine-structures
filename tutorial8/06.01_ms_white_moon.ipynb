{
 "cells": [
  {
   "cell_type": "markdown",
   "metadata": {},
   "source": [
    "# 6 M/S White Moon"
   ]
  },
  {
   "cell_type": "code",
   "execution_count": 1,
   "metadata": {},
   "outputs": [],
   "source": [
    "import pandas as pd\n",
    "from mms185 import simpson\n",
    "from mms185.sympy import lambdify,run\n",
    "import matplotlib.pyplot as plt\n",
    "import numpy as np\n",
    "from numpy import arctan,tan, sin, cos\n",
    "from sympy import symbols, Eq\n",
    "import sympy as sp\n",
    "import pandas as pd\n",
    "from sympy import Eq,symbols\n",
    "from IPython.display import display\n",
    "import numpy as np\n",
    "from numpy import tan"
   ]
  },
  {
   "cell_type": "code",
   "execution_count": 43,
   "metadata": {},
   "outputs": [],
   "source": [
    "TMcm,delta_t,t_1,t_2,w,d,LCF,lcg = symbols(\"TM_cm,\\delta{t},t_1,t_2,w,d,LCF,lcg\")"
   ]
  },
  {
   "cell_type": "code",
   "execution_count": 13,
   "metadata": {},
   "outputs": [
    {
     "data": {
      "text/latex": [
       "$\\displaystyle \\delta{t} = - t_{1} + t_{2}$"
      ],
      "text/plain": [
       "Eq(\\delta{t}, -t_1 + t_2)"
      ]
     },
     "execution_count": 13,
     "metadata": {},
     "output_type": "execute_result"
    }
   ],
   "source": [
    "eq_delta_t = Eq(delta_t, t_2-t_1)\n",
    "eq_delta_t"
   ]
  },
  {
   "cell_type": "code",
   "execution_count": 35,
   "metadata": {},
   "outputs": [
    {
     "data": {
      "text/latex": [
       "$\\displaystyle 100 TM_{cm} \\delta{t} = - d w$"
      ],
      "text/plain": [
       "Eq(100*TM_cm*\\delta{t}, -d*w)"
      ]
     },
     "execution_count": 35,
     "metadata": {},
     "output_type": "execute_result"
    }
   ],
   "source": [
    "eq_TM_cm = Eq(TMcm*100*delta_t, -w*d)\n",
    "eq_TM_cm"
   ]
  },
  {
   "cell_type": "code",
   "execution_count": 44,
   "metadata": {},
   "outputs": [
    {
     "data": {
      "text/latex": [
       "$\\displaystyle lcg = LCF + d$"
      ],
      "text/plain": [
       "Eq(lcg, LCF + d)"
      ]
     },
     "execution_count": 44,
     "metadata": {},
     "output_type": "execute_result"
    }
   ],
   "source": [
    "eq_lcg = Eq(lcg,LCF+d)\n",
    "eq_lcg"
   ]
  },
  {
   "cell_type": "code",
   "execution_count": 41,
   "metadata": {},
   "outputs": [],
   "source": [
    "meta_data = {\n",
    "    \"t_1\":5.06, #[m]\n",
    "    \"t_2\":6.06, #[m]\n",
    "    \"w\":160, #[t]\n",
    "    \"TM_cm\": 61.9, #[tm/cm]\n",
    "    \"LCF\": -2.52, # [m] fwd lpp/2       \n",
    "}\n",
    "meta_data = pd.Series(meta_data)\n",
    "calculation=pd.Series({})"
   ]
  },
  {
   "cell_type": "code",
   "execution_count": 46,
   "metadata": {},
   "outputs": [],
   "source": [
    "eqs = [\n",
    "    eq_delta_t,\n",
    "    eq_TM_cm,\n",
    "    eq_lcg,\n",
    "    ]\n",
    "\n",
    "solution = sp.solve(eqs, d, delta_t, lcg, dict=True)[0]\n",
    "eqs_solution = {key:Eq(key,value) for key,value in solution.items()}"
   ]
  },
  {
   "cell_type": "code",
   "execution_count": 47,
   "metadata": {},
   "outputs": [
    {
     "data": {
      "text/latex": [
       "$\\displaystyle d = \\frac{100 TM_{cm} t_{1} - 100 TM_{cm} t_{2}}{w}$"
      ],
      "text/plain": [
       "Eq(d, (100*TM_cm*t_1 - 100*TM_cm*t_2)/w)"
      ]
     },
     "metadata": {},
     "output_type": "display_data"
    },
    {
     "data": {
      "text/latex": [
       "$\\displaystyle \\delta{t} = - t_{1} + t_{2}$"
      ],
      "text/plain": [
       "Eq(\\delta{t}, -t_1 + t_2)"
      ]
     },
     "metadata": {},
     "output_type": "display_data"
    },
    {
     "data": {
      "text/latex": [
       "$\\displaystyle lcg = \\frac{LCF w + 100 TM_{cm} t_{1} - 100 TM_{cm} t_{2}}{w}$"
      ],
      "text/plain": [
       "Eq(lcg, (LCF*w + 100*TM_cm*t_1 - 100*TM_cm*t_2)/w)"
      ]
     },
     "metadata": {},
     "output_type": "display_data"
    }
   ],
   "source": [
    "for eq in eqs_solution.values():\n",
    "    display(eq)"
   ]
  },
  {
   "cell_type": "code",
   "execution_count": 48,
   "metadata": {},
   "outputs": [],
   "source": [
    "for symbol, eq in eqs_solution.items():\n",
    "    calculation[str(symbol)] = run(function=eq, **meta_data)"
   ]
  },
  {
   "cell_type": "code",
   "execution_count": 49,
   "metadata": {},
   "outputs": [
    {
     "data": {
      "text/plain": [
       "d           -38.6875\n",
       "\\delta{t}     1.0000\n",
       "lcg         -41.2075\n",
       "dtype: float64"
      ]
     },
     "execution_count": 49,
     "metadata": {},
     "output_type": "execute_result"
    }
   ],
   "source": [
    "calculation"
   ]
  },
  {
   "cell_type": "code",
   "execution_count": null,
   "metadata": {},
   "outputs": [],
   "source": []
  }
 ],
 "metadata": {
  "kernelspec": {
   "display_name": "Python 3",
   "language": "python",
   "name": "python3"
  },
  "language_info": {
   "codemirror_mode": {
    "name": "ipython",
    "version": 3
   },
   "file_extension": ".py",
   "mimetype": "text/x-python",
   "name": "python",
   "nbconvert_exporter": "python",
   "pygments_lexer": "ipython3",
   "version": "3.10.13"
  }
 },
 "nbformat": 4,
 "nbformat_minor": 2
}
