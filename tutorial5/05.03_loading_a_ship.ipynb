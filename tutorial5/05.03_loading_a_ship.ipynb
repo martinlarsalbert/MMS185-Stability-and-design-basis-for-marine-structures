{
 "cells": [
  {
   "cell_type": "markdown",
   "metadata": {},
   "source": [
    "# 5.3 Loading a ship"
   ]
  },
  {
   "cell_type": "code",
   "execution_count": 51,
   "metadata": {},
   "outputs": [],
   "source": [
    "import pandas as pd\n",
    "from mms185 import simpson\n",
    "from mms185.sympy import lambdify,run\n",
    "import matplotlib.pyplot as plt\n",
    "import numpy as np\n",
    "from numpy import arctan,tan, sin, cos\n",
    "from sympy import symbols, Eq\n",
    "import sympy as sp\n",
    "import pandas as pd\n",
    "from sympy import Eq,symbols\n",
    "from IPython.display import display"
   ]
  },
  {
   "cell_type": "markdown",
   "metadata": {},
   "source": [
    "### a) find the weights $w_1$ and $w_2$"
   ]
  },
  {
   "cell_type": "code",
   "execution_count": 9,
   "metadata": {},
   "outputs": [],
   "source": [
    "delta_t,TM, MTcm, w_1, w_2, d_1, d_2 = symbols(\"\\delta{t}, TM, MTcm, w_1, w_2, d_1, d_2,\")"
   ]
  },
  {
   "cell_type": "code",
   "execution_count": 13,
   "metadata": {},
   "outputs": [
    {
     "data": {
      "text/latex": [
       "$\\displaystyle \\delta{t} = \\frac{TM}{100 MTcm}$"
      ],
      "text/plain": [
       "Eq(\\delta{t}, TM/(100*MTcm))"
      ]
     },
     "execution_count": 13,
     "metadata": {},
     "output_type": "execute_result"
    }
   ],
   "source": [
    "eq_delta_t_1 = Eq(delta_t, TM/(MTcm*100))\n",
    "eq_delta_t_1"
   ]
  },
  {
   "cell_type": "code",
   "execution_count": 17,
   "metadata": {},
   "outputs": [
    {
     "data": {
      "text/latex": [
       "$\\displaystyle TM = d_{1} w_{1} + d_{2} w_{2}$"
      ],
      "text/plain": [
       "Eq(TM, d_1*w_1 + d_2*w_2)"
      ]
     },
     "execution_count": 17,
     "metadata": {},
     "output_type": "execute_result"
    }
   ],
   "source": [
    "eq_TM = Eq(TM,w_1*d_1+w_2*d_2)\n",
    "eq_TM"
   ]
  },
  {
   "cell_type": "markdown",
   "metadata": {},
   "source": [
    "where $w_1$, $w_2$ are the weights $[t]$ and $d_1$, $d_2$ are the distances $[m]$ from longitudinal centre of flotation $LCF$. "
   ]
  },
  {
   "cell_type": "code",
   "execution_count": 15,
   "metadata": {},
   "outputs": [
    {
     "data": {
      "text/latex": [
       "$\\displaystyle \\delta{t} = - t_{initial} + t_{target}$"
      ],
      "text/plain": [
       "Eq(\\delta{t}, -t_initial + t_target)"
      ]
     },
     "execution_count": 15,
     "metadata": {},
     "output_type": "execute_result"
    }
   ],
   "source": [
    "t_target, t_initial = symbols(\"t_target, t_initial\")\n",
    "eq_delta_t_2 = Eq(delta_t, t_target - t_initial)\n",
    "eq_delta_t_2"
   ]
  },
  {
   "cell_type": "code",
   "execution_count": 16,
   "metadata": {},
   "outputs": [
    {
     "data": {
      "text/latex": [
       "$\\displaystyle t_{initial} = T_{AP} - T_{FP}$"
      ],
      "text/plain": [
       "Eq(t_initial, T_AP - T_FP)"
      ]
     },
     "execution_count": 16,
     "metadata": {},
     "output_type": "execute_result"
    }
   ],
   "source": [
    "T_AP,T_FP = symbols(\"T_AP,T_FP\")\n",
    "eq_t_initial = Eq(t_initial, T_AP - T_FP)\n",
    "eq_t_initial"
   ]
  },
  {
   "cell_type": "code",
   "execution_count": 30,
   "metadata": {},
   "outputs": [
    {
     "data": {
      "text/latex": [
       "$\\displaystyle w = w_{1} + w_{2}$"
      ],
      "text/plain": [
       "Eq(w, w_1 + w_2)"
      ]
     },
     "execution_count": 30,
     "metadata": {},
     "output_type": "execute_result"
    }
   ],
   "source": [
    "w=symbols(\"w\")\n",
    "eq_w_1 = Eq(w,w_1+w_2)\n",
    "eq_w_1"
   ]
  },
  {
   "cell_type": "code",
   "execution_count": 68,
   "metadata": {},
   "outputs": [],
   "source": [
    "eqs = [\n",
    "    eq_delta_t_1,\n",
    "    eq_TM,\n",
    "    eq_delta_t_2,\n",
    "    eq_t_initial,\n",
    "    eq_w_1,\n",
    "       ]\n",
    "\n",
    "solution = sp.solve(eqs, delta_t, TM, w_1, w_2, t_initial, dict=True)[0]"
   ]
  },
  {
   "cell_type": "code",
   "execution_count": 69,
   "metadata": {},
   "outputs": [],
   "source": [
    "equations = {symbol:Eq(symbol,expression) for symbol,expression in solution.items()}"
   ]
  },
  {
   "cell_type": "code",
   "execution_count": 70,
   "metadata": {},
   "outputs": [
    {
     "data": {
      "text/latex": [
       "$\\displaystyle \\delta{t} = - T_{AP} + T_{FP} + t_{target}$"
      ],
      "text/plain": [
       "Eq(\\delta{t}, -T_AP + T_FP + t_target)"
      ]
     },
     "metadata": {},
     "output_type": "display_data"
    },
    {
     "data": {
      "text/latex": [
       "$\\displaystyle TM = - 100 MTcm T_{AP} + 100 MTcm T_{FP} + 100 MTcm t_{target}$"
      ],
      "text/plain": [
       "Eq(TM, -100*MTcm*T_AP + 100*MTcm*T_FP + 100*MTcm*t_target)"
      ]
     },
     "metadata": {},
     "output_type": "display_data"
    },
    {
     "data": {
      "text/latex": [
       "$\\displaystyle w_{1} = \\frac{- 100 MTcm T_{AP} + 100 MTcm T_{FP} + 100 MTcm t_{target} - d_{2} w}{d_{1} - d_{2}}$"
      ],
      "text/plain": [
       "Eq(w_1, (-100*MTcm*T_AP + 100*MTcm*T_FP + 100*MTcm*t_target - d_2*w)/(d_1 - d_2))"
      ]
     },
     "metadata": {},
     "output_type": "display_data"
    },
    {
     "data": {
      "text/latex": [
       "$\\displaystyle w_{2} = \\frac{100 MTcm T_{AP} - 100 MTcm T_{FP} - 100 MTcm t_{target} + d_{1} w}{d_{1} - d_{2}}$"
      ],
      "text/plain": [
       "Eq(w_2, (100*MTcm*T_AP - 100*MTcm*T_FP - 100*MTcm*t_target + d_1*w)/(d_1 - d_2))"
      ]
     },
     "metadata": {},
     "output_type": "display_data"
    },
    {
     "data": {
      "text/latex": [
       "$\\displaystyle t_{initial} = T_{AP} - T_{FP}$"
      ],
      "text/plain": [
       "Eq(t_initial, T_AP - T_FP)"
      ]
     },
     "metadata": {},
     "output_type": "display_data"
    }
   ],
   "source": [
    "for eq in equations.values():\n",
    "    display(eq)"
   ]
  },
  {
   "cell_type": "code",
   "execution_count": 98,
   "metadata": {},
   "outputs": [],
   "source": [
    "subs={\n",
    "    delta_t:'delta_t',    \n",
    "}\n",
    "lambdas = {symbol:lambdify(eq.subs(subs)) for symbol,eq in equations.items()}"
   ]
  },
  {
   "cell_type": "code",
   "execution_count": 110,
   "metadata": {},
   "outputs": [],
   "source": [
    "meta_data={\n",
    "    'lpp':120,          #[m]\n",
    "    'T_AP': 6.49,       #[m]\n",
    "    'T_FP': 7.54,       #[m]\n",
    "    'w': 600,           #[t]\n",
    "    't_target': 0.2,    #[m]\n",
    "    'LCF':57,           #[m]\n",
    "    'TPcm':18.75,       #[t/cm]\n",
    "    'MTcm':108,         #[tm/cm]\n",
    "    'LCG_1':32,         #[m]\n",
    "    'LCG_2':100,        #[m]\n",
    "}\n",
    "meta_data['d_1'] = meta_data['LCF'] - meta_data['LCG_1']  # Note that this is a distance aftward!\n",
    "meta_data['d_2'] = meta_data['LCF'] - meta_data['LCG_2']  # Note that this is a distance aftward!   \n"
   ]
  },
  {
   "cell_type": "code",
   "execution_count": 100,
   "metadata": {},
   "outputs": [
    {
     "data": {
      "text/plain": [
       "{'T_AP': 6.49,\n",
       " 'T_FP': 7.54,\n",
       " 'w': 600,\n",
       " 't_target': 0.2,\n",
       " 'LCF': 57,\n",
       " 'TPcm': 18.75,\n",
       " 'MTcm': 108,\n",
       " 'LCG_1': 32,\n",
       " 'LCG_2': 100,\n",
       " 'd_1': 25,\n",
       " 'd_2': -43}"
      ]
     },
     "execution_count": 100,
     "metadata": {},
     "output_type": "execute_result"
    }
   ],
   "source": [
    "meta_data"
   ]
  },
  {
   "cell_type": "code",
   "execution_count": 101,
   "metadata": {},
   "outputs": [],
   "source": [
    "calculation = {str(subs.get(symbol,symbol)):run(lambda_, meta_data) for symbol,lambda_ in lambdas.items()}"
   ]
  },
  {
   "cell_type": "code",
   "execution_count": 102,
   "metadata": {},
   "outputs": [
    {
     "data": {
      "text/plain": [
       "{'delta_t': 1.2499999999999998,\n",
       " 'TM': 13500.0,\n",
       " 'w_1': 577.9411764705883,\n",
       " 'w_2': 22.058823529411764,\n",
       " 't_initial': -1.0499999999999998}"
      ]
     },
     "execution_count": 102,
     "metadata": {},
     "output_type": "execute_result"
    }
   ],
   "source": [
    "calculation"
   ]
  },
  {
   "cell_type": "markdown",
   "metadata": {},
   "source": [
    "### b) find the forward and aft drafts $T_{FP}$ and $T_{AP}$"
   ]
  },
  {
   "cell_type": "code",
   "execution_count": 103,
   "metadata": {},
   "outputs": [
    {
     "data": {
      "text/latex": [
       "$\\displaystyle \\delta{T} = \\frac{w}{100 TPcm}$"
      ],
      "text/plain": [
       "Eq(\\delta{T}, w/(100*TPcm))"
      ]
     },
     "execution_count": 103,
     "metadata": {},
     "output_type": "execute_result"
    }
   ],
   "source": [
    "delta_T, TPcm = symbols(\"\\delta{T}, TPcm\")\n",
    "eq_delta_T = Eq(delta_T, w/(TPcm*100))\n",
    "eq_delta_T"
   ]
  },
  {
   "cell_type": "code",
   "execution_count": 104,
   "metadata": {},
   "outputs": [
    {
     "data": {
      "text/plain": [
       "0.32"
      ]
     },
     "execution_count": 104,
     "metadata": {},
     "output_type": "execute_result"
    }
   ],
   "source": [
    "calculation['delta_T'] = run(lambdify(eq_delta_T), meta_data)\n",
    "calculation['delta_T']"
   ]
  },
  {
   "cell_type": "code",
   "execution_count": 123,
   "metadata": {},
   "outputs": [],
   "source": [
    "calculation['T_LCF_initial'] = meta_data[\"T_AP\"]-meta_data['LCF']*calculation[\"t_initial\"]/meta_data['lpp']  # Note -LCF\n",
    "calculation['T_AP'] = calculation[\"T_LCF_initial\"]+calculation[\"delta_T\"] + meta_data['LCF']*meta_data[\"t_target\"]/meta_data['lpp']\n",
    "calculation['T_FP'] = calculation['T_AP']-meta_data[\"t_target\"]"
   ]
  },
  {
   "cell_type": "code",
   "execution_count": 124,
   "metadata": {},
   "outputs": [
    {
     "data": {
      "text/plain": [
       "{'delta_t': 1.2499999999999998,\n",
       " 'TM': 13500.0,\n",
       " 'w_1': 577.9411764705883,\n",
       " 'w_2': 22.058823529411764,\n",
       " 't_initial': -1.0499999999999998,\n",
       " 'delta_T': 0.32,\n",
       " 'T_AP': 7.4037500000000005,\n",
       " 'T_LCF_initial': 6.9887500000000005,\n",
       " 'T_FP': 7.20375}"
      ]
     },
     "execution_count": 124,
     "metadata": {},
     "output_type": "execute_result"
    }
   ],
   "source": [
    "calculation"
   ]
  },
  {
   "cell_type": "code",
   "execution_count": 125,
   "metadata": {},
   "outputs": [
    {
     "data": {
      "text/plain": [
       "{'delta_t': 1.2499999999999998,\n",
       " 'TM': 13500.0,\n",
       " 'w_1': 577.9411764705883,\n",
       " 'w_2': 22.058823529411764,\n",
       " 't_initial': -1.0499999999999998,\n",
       " 'delta_T': 0.32,\n",
       " 'T_AP': 7.4037500000000005,\n",
       " 'T_LCF_initial': 6.9887500000000005,\n",
       " 'T_FP': 7.20375}"
      ]
     },
     "execution_count": 125,
     "metadata": {},
     "output_type": "execute_result"
    }
   ],
   "source": [
    "calculation"
   ]
  },
  {
   "cell_type": "code",
   "execution_count": null,
   "metadata": {},
   "outputs": [],
   "source": []
  },
  {
   "cell_type": "code",
   "execution_count": null,
   "metadata": {},
   "outputs": [],
   "source": []
  },
  {
   "cell_type": "code",
   "execution_count": 127,
   "metadata": {},
   "outputs": [
    {
     "data": {
      "text/plain": [
       "0.8807973214285713"
      ]
     },
     "execution_count": 127,
     "metadata": {},
     "output_type": "execute_result"
    }
   ],
   "source": [
    "w = 200.1\n",
    "d=-49.3\n",
    "MTcm=112\n",
    "t = (-w*d/(MTcm*100))\n",
    "t"
   ]
  },
  {
   "cell_type": "code",
   "execution_count": 128,
   "metadata": {},
   "outputs": [
    {
     "data": {
      "text/plain": [
       "4.069202678571429"
      ]
     },
     "execution_count": 128,
     "metadata": {},
     "output_type": "execute_result"
    }
   ],
   "source": [
    "4.95-t"
   ]
  },
  {
   "cell_type": "code",
   "execution_count": 129,
   "metadata": {},
   "outputs": [
    {
     "data": {
      "text/plain": [
       "7.309"
      ]
     },
     "execution_count": 129,
     "metadata": {},
     "output_type": "execute_result"
    }
   ],
   "source": [
    "6.989+0.32"
   ]
  },
  {
   "cell_type": "code",
   "execution_count": null,
   "metadata": {},
   "outputs": [],
   "source": []
  }
 ],
 "metadata": {
  "kernelspec": {
   "display_name": "Python 3",
   "language": "python",
   "name": "python3"
  },
  "language_info": {
   "codemirror_mode": {
    "name": "ipython",
    "version": 3
   },
   "file_extension": ".py",
   "mimetype": "text/x-python",
   "name": "python",
   "nbconvert_exporter": "python",
   "pygments_lexer": "ipython3",
   "version": "3.1.0"
  }
 },
 "nbformat": 4,
 "nbformat_minor": 2
}
