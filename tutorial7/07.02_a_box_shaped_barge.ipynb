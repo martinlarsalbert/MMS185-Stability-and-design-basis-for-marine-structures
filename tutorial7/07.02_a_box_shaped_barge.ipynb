{
 "cells": [
  {
   "cell_type": "markdown",
   "metadata": {},
   "source": [
    "# 7.2 A box shaped barge"
   ]
  },
  {
   "cell_type": "code",
   "execution_count": 1,
   "metadata": {},
   "outputs": [],
   "source": [
    "import pandas as pd\n",
    "from mms185 import simpson\n",
    "from mms185.sympy import lambdify,run\n",
    "import matplotlib.pyplot as plt\n",
    "import numpy as np\n",
    "from numpy import arctan,tan, sin, cos\n",
    "from sympy import symbols, Eq\n",
    "import sympy as sp\n",
    "import pandas as pd\n",
    "from sympy import Eq,symbols\n",
    "from IPython.display import display\n",
    "import numpy as np\n",
    "from numpy import tan"
   ]
  },
  {
   "cell_type": "code",
   "execution_count": 20,
   "metadata": {},
   "outputs": [],
   "source": [
    "meta_data = {\n",
    "    'T_AP':2.70,\n",
    "    'T_FP':4.50,\n",
    "    'L':60,\n",
    "    'B':10,\n",
    "    'T':3,    \n",
    "}\n",
    "meta_data = pd.Series(meta_data)"
   ]
  },
  {
   "cell_type": "code",
   "execution_count": 3,
   "metadata": {},
   "outputs": [],
   "source": [
    "T_AP,T_FP,L,k,y,x,m = symbols(\"T_AP,T_FP,L,k,y,x,m\")"
   ]
  },
  {
   "cell_type": "code",
   "execution_count": 4,
   "metadata": {},
   "outputs": [],
   "source": [
    "eq_y = Eq(y,k*x+m)\n",
    "eq_k = Eq(k,(T_FP-T_AP)/L)\n",
    "eq_m = Eq(m,T_AP)"
   ]
  },
  {
   "cell_type": "code",
   "execution_count": 5,
   "metadata": {},
   "outputs": [
    {
     "data": {
      "text/latex": [
       "$\\displaystyle y = k x + m$"
      ],
      "text/plain": [
       "Eq(y, k*x + m)"
      ]
     },
     "metadata": {},
     "output_type": "display_data"
    },
    {
     "data": {
      "text/latex": [
       "$\\displaystyle k = \\frac{- T_{AP} + T_{FP}}{L}$"
      ],
      "text/plain": [
       "Eq(k, (-T_AP + T_FP)/L)"
      ]
     },
     "metadata": {},
     "output_type": "display_data"
    },
    {
     "data": {
      "text/latex": [
       "$\\displaystyle m = T_{AP}$"
      ],
      "text/plain": [
       "Eq(m, T_AP)"
      ]
     },
     "metadata": {},
     "output_type": "display_data"
    },
    {
     "data": {
      "text/latex": [
       "$\\displaystyle y = \\frac{L T_{AP} - T_{AP} x + T_{FP} x}{L}$"
      ],
      "text/plain": [
       "Eq(y, (L*T_AP - T_AP*x + T_FP*x)/L)"
      ]
     },
     "metadata": {},
     "output_type": "display_data"
    },
    {
     "data": {
      "text/latex": [
       "$\\displaystyle k = \\frac{- T_{AP} + T_{FP}}{L}$"
      ],
      "text/plain": [
       "Eq(k, (-T_AP + T_FP)/L)"
      ]
     },
     "metadata": {},
     "output_type": "display_data"
    },
    {
     "data": {
      "text/latex": [
       "$\\displaystyle m = T_{AP}$"
      ],
      "text/plain": [
       "Eq(m, T_AP)"
      ]
     },
     "metadata": {},
     "output_type": "display_data"
    }
   ],
   "source": [
    "eqs = [\n",
    "    eq_y,\n",
    "    eq_k,\n",
    "    eq_m,\n",
    "]\n",
    "for eq in eqs:\n",
    "    display(eq)\n",
    "\n",
    "solution = sp.solve(eqs, y, k, m, dict=True)[0]\n",
    "eqs_solution = {key:Eq(key,value) for key,value in solution.items()}\n",
    "for eq in eqs_solution.values():\n",
    "    display(eq)"
   ]
  },
  {
   "cell_type": "code",
   "execution_count": 6,
   "metadata": {},
   "outputs": [
    {
     "data": {
      "text/latex": [
       "$\\displaystyle A = \\int\\limits_{0}^{L} y\\, dx$"
      ],
      "text/plain": [
       "Eq(A, Integral(y, (x, 0, L)))"
      ]
     },
     "execution_count": 6,
     "metadata": {},
     "output_type": "execute_result"
    }
   ],
   "source": [
    "A,M_y,x_lever = symbols(r\"A,M_y,\\overline{x}\")\n",
    "eq_A = Eq(A,sp.Integral(y,(x,0,L)))\n",
    "eq_A"
   ]
  },
  {
   "cell_type": "code",
   "execution_count": 7,
   "metadata": {},
   "outputs": [
    {
     "data": {
      "text/latex": [
       "$\\displaystyle M_{y} = \\int\\limits_{0}^{L} x y\\, dx$"
      ],
      "text/plain": [
       "Eq(M_y, Integral(x*y, (x, 0, L)))"
      ]
     },
     "execution_count": 7,
     "metadata": {},
     "output_type": "execute_result"
    }
   ],
   "source": [
    "eq_M_y = Eq(M_y,sp.Integral(y*x,(x,0,L)))\n",
    "eq_M_y"
   ]
  },
  {
   "cell_type": "code",
   "execution_count": 8,
   "metadata": {},
   "outputs": [
    {
     "data": {
      "text/latex": [
       "$\\displaystyle \\overline{x} = \\frac{M_{y}}{A}$"
      ],
      "text/plain": [
       "Eq(\\overline{x}, M_y/A)"
      ]
     },
     "execution_count": 8,
     "metadata": {},
     "output_type": "execute_result"
    }
   ],
   "source": [
    "eq_x_lever = Eq(x_lever,M_y/A)\n",
    "eq_x_lever"
   ]
  },
  {
   "cell_type": "code",
   "execution_count": 9,
   "metadata": {},
   "outputs": [
    {
     "data": {
      "text/latex": [
       "$\\displaystyle A = L T_{AP} + \\frac{L \\left(- T_{AP} + T_{FP}\\right)}{2}$"
      ],
      "text/plain": [
       "Eq(A, L*T_AP + L*(-T_AP + T_FP)/2)"
      ]
     },
     "execution_count": 9,
     "metadata": {},
     "output_type": "execute_result"
    }
   ],
   "source": [
    "eq_A_expanded = eq_A.subs(y,eqs_solution[y].rhs).doit()\n",
    "eq_A_expanded"
   ]
  },
  {
   "cell_type": "code",
   "execution_count": 10,
   "metadata": {},
   "outputs": [
    {
     "data": {
      "text/latex": [
       "$\\displaystyle M_{y} = \\frac{L^{2} T_{AP}}{2} + \\frac{L^{2} \\left(- T_{AP} + T_{FP}\\right)}{3}$"
      ],
      "text/plain": [
       "Eq(M_y, L**2*T_AP/2 + L**2*(-T_AP + T_FP)/3)"
      ]
     },
     "execution_count": 10,
     "metadata": {},
     "output_type": "execute_result"
    }
   ],
   "source": [
    "eq_M_y_expanded = eq_M_y.subs(y,eqs_solution[y].rhs).doit()\n",
    "eq_M_y_expanded"
   ]
  },
  {
   "cell_type": "code",
   "execution_count": 11,
   "metadata": {},
   "outputs": [
    {
     "data": {
      "text/latex": [
       "$\\displaystyle \\overline{x} = \\frac{L \\left(T_{AP} + 2 T_{FP}\\right)}{3 \\left(T_{AP} + T_{FP}\\right)}$"
      ],
      "text/plain": [
       "Eq(\\overline{x}, L*(T_AP + 2*T_FP)/(3*(T_AP + T_FP)))"
      ]
     },
     "execution_count": 11,
     "metadata": {},
     "output_type": "execute_result"
    }
   ],
   "source": [
    "eq_x_lever_expanded = sp.simplify(eq_x_lever.subs([\n",
    "    (M_y,eq_M_y_expanded.rhs),\n",
    "    (A,eq_A_expanded.rhs),\n",
    "    ]\n",
    "))\n",
    "eq_x_lever_expanded"
   ]
  },
  {
   "cell_type": "code",
   "execution_count": 42,
   "metadata": {},
   "outputs": [],
   "source": [
    "calculation = {}\n",
    "calculation['Delta_flooded'] = 2160\n",
    "calculation['Delta_intact'] = 1800\n",
    "calculation['Delta_intact'] = meta_data.L*meta_data.B*meta_data['T']\n",
    "calculation['Delta_compartment'] = 360\n",
    "calculation['LCB_intact'] = meta_data['L']/2\n",
    "calculation['LCB_flooded'] = run(eq_x_lever_expanded, meta_data)\n",
    "calculation = pd.Series(calculation)"
   ]
  },
  {
   "cell_type": "code",
   "execution_count": 43,
   "metadata": {},
   "outputs": [],
   "source": [
    "Delta_intact,LCB_intact,Delta_compartment,LCG_compartment, Delta_flooded,LCB_flooded = symbols(\"Delta_intact,LCB_intact,Delta_compartment,LCG_compartment, Delta_flooded,LCB_flooded\")"
   ]
  },
  {
   "cell_type": "code",
   "execution_count": 44,
   "metadata": {},
   "outputs": [
    {
     "data": {
      "text/latex": [
       "$\\displaystyle \\Delta_{compartment} LCG_{compartment} + \\Delta_{intact} LCB_{intact} = \\Delta_{flooded} LCB_{flooded}$"
      ],
      "text/plain": [
       "Eq(Delta_compartment*LCG_compartment + Delta_intact*LCB_intact, Delta_flooded*LCB_flooded)"
      ]
     },
     "execution_count": 44,
     "metadata": {},
     "output_type": "execute_result"
    }
   ],
   "source": [
    "eq_POM = Eq(Delta_intact*LCB_intact+Delta_compartment*LCG_compartment, Delta_flooded*LCB_flooded)\n",
    "eq_POM"
   ]
  },
  {
   "cell_type": "code",
   "execution_count": 45,
   "metadata": {},
   "outputs": [
    {
     "data": {
      "text/latex": [
       "$\\displaystyle LCG_{compartment} = \\frac{\\Delta_{flooded} LCB_{flooded} - \\Delta_{intact} LCB_{intact}}{\\Delta_{compartment}}$"
      ],
      "text/plain": [
       "Eq(LCG_compartment, (Delta_flooded*LCB_flooded - Delta_intact*LCB_intact)/Delta_compartment)"
      ]
     },
     "execution_count": 45,
     "metadata": {},
     "output_type": "execute_result"
    }
   ],
   "source": [
    "eq_LCG_compartment = Eq(LCG_compartment, sp.solve(eq_POM, LCG_compartment)[0])\n",
    "eq_LCG_compartment"
   ]
  },
  {
   "cell_type": "code",
   "execution_count": 50,
   "metadata": {},
   "outputs": [],
   "source": [
    "calculation['LCG_compartment'] = run(eq_LCG_compartment, meta_data, **calculation)"
   ]
  },
  {
   "cell_type": "code",
   "execution_count": 52,
   "metadata": {},
   "outputs": [],
   "source": [
    "calculation['h'] = meta_data.T_AP + (meta_data.T_FP-meta_data.T_AP)/meta_data.L*calculation.LCG_compartment"
   ]
  },
  {
   "cell_type": "code",
   "execution_count": 64,
   "metadata": {},
   "outputs": [],
   "source": [
    "calculation['V_compartment'] = calculation.Delta_compartment/0.75  # (75% permeability of the compartment)\n",
    "calculation['l'] = calculation.V_compartment/(calculation.h*meta_data.B)"
   ]
  },
  {
   "cell_type": "code",
   "execution_count": 67,
   "metadata": {},
   "outputs": [
    {
     "data": {
      "text/plain": [
       "50.925925925925924"
      ]
     },
     "execution_count": 67,
     "metadata": {},
     "output_type": "execute_result"
    }
   ],
   "source": [
    "calculation['x_bulkhead_1'] = calculation.LCG_compartment-calculation.l/2\n",
    "calculation['x_bulkhead_2'] = calculation.LCG_compartment+calculation.l/2"
   ]
  },
  {
   "cell_type": "code",
   "execution_count": 66,
   "metadata": {},
   "outputs": [
    {
     "data": {
      "text/plain": [
       "Delta_flooded        2160.000000\n",
       "Delta_intact         1800.000000\n",
       "Delta_compartment     360.000000\n",
       "LCB_intact             30.000000\n",
       "LCB_flooded            32.500000\n",
       "LCG_compartment        45.000000\n",
       "h                       4.050000\n",
       "l                      11.851852\n",
       "V_compartment         480.000000\n",
       "dtype: float64"
      ]
     },
     "execution_count": 66,
     "metadata": {},
     "output_type": "execute_result"
    }
   ],
   "source": [
    "calculation"
   ]
  },
  {
   "cell_type": "code",
   "execution_count": null,
   "metadata": {},
   "outputs": [],
   "source": []
  }
 ],
 "metadata": {
  "kernelspec": {
   "display_name": "Python 3",
   "language": "python",
   "name": "python3"
  },
  "language_info": {
   "codemirror_mode": {
    "name": "ipython",
    "version": 3
   },
   "file_extension": ".py",
   "mimetype": "text/x-python",
   "name": "python",
   "nbconvert_exporter": "python",
   "pygments_lexer": "ipython3",
   "version": "3.10.13"
  }
 },
 "nbformat": 4,
 "nbformat_minor": 2
}
